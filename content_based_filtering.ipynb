{
 "cells": [
  {
   "attachments": {
    "8db4b025-8e06-4b03-8b69-905dab35be75.png": {
     "image/png": "[encoded data removed]"
    }
   },
   "cell_type": "markdown",
   "id": "2bd0b57b-5487-4920-b73c-ebc810417393",
   "metadata": {},
   "source": [
    "# An Extensive GoodReads Dataset containing 100k books\n",
    "\n",
    "![Unknown-5.png](attachment:8db4b025-8e06-4b03-8b69-905dab35be75.png)\n",
    "\n",
    "**This dataset some of the generally required columns needed to express a book. This study includes a detailed title analysis, author analysis, and content-based recommendation system.**"
   ]
  },
  {
   "cell_type": "code",
   "execution_count": 1,
   "id": "d8ffe556-209d-432f-94bd-0a3cc735c688",
   "metadata": {},
   "outputs": [],
   "source": [
    "import pandas as pd\n",
    "import numpy as np\n",
    "\n",
    "from matplotlib import pyplot as plt\n",
    "import seaborn as sns \n",
    "\n",
    "from sklearn.feature_extraction.text import TfidfVectorizer\n",
    "from sklearn.metrics.pairwise import cosine_similarity\n",
    "\n",
    "from PIL import Image\n",
    "from wordcloud import WordCloud, ImageColorGenerator\n",
    "from textblob import Word, TextBlob\n",
    "import nltk\n",
    "from nltk.stem import WordNetLemmatizer\n",
    "from nltk.sentiment import SentimentIntensityAnalyzer\n",
    "from nltk.corpus import stopwords\n",
    "\n",
    "pd.set_option('display.max_columns', None)\n",
    "pd.set_option('display.float_format', lambda x: '%.2f' % x)\n",
    "pd.set_option('display.width', 200)\n",
    "import warnings\n",
    "warnings.filterwarnings(\"ignore\")"
   ]
  },
  {
   "cell_type": "code",
   "execution_count": 2,
   "id": "9784d9dc-6b40-4b0e-ad84-0885f5282b76",
   "metadata": {},
   "outputs": [],
   "source": [
    "df = pd.read_csv('GoodReads_100k_books.csv')"
   ]
  },
  {
   "cell_type": "code",
   "execution_count": 3,
   "id": "b4f16b54-1708-4127-ae22-62630308160e",
   "metadata": {},
   "outputs": [
    {
     "data": {
      "text/html": [
       "<div>\n",
       "<style scoped>\n",
       "    .dataframe tbody tr th:only-of-type {\n",
       "        vertical-align: middle;\n",
       "    }\n",
       "\n",
       "    .dataframe tbody tr th {\n",
       "        vertical-align: top;\n",
       "    }\n",
       "\n",
       "    .dataframe thead th {\n",
       "        text-align: right;\n",
       "    }\n",
       "</style>\n",
       "<table border=\"1\" class=\"dataframe\">\n",
       "  <thead>\n",
       "    <tr style=\"text-align: right;\">\n",
       "      <th></th>\n",
       "      <th>author</th>\n",
       "      <th>bookformat</th>\n",
       "      <th>desc</th>\n",
       "      <th>genre</th>\n",
       "      <th>img</th>\n",
       "      <th>isbn</th>\n",
       "      <th>isbn13</th>\n",
       "      <th>link</th>\n",
       "      <th>pages</th>\n",
       "      <th>rating</th>\n",
       "      <th>reviews</th>\n",
       "      <th>title</th>\n",
       "      <th>totalratings</th>\n",
       "    </tr>\n",
       "  </thead>\n",
       "  <tbody>\n",
       "    <tr>\n",
       "      <th>0</th>\n",
       "      <td>Laurence M. Hauptman</td>\n",
       "      <td>Hardcover</td>\n",
       "      <td>Reveals that several hundred thousand Indians ...</td>\n",
       "      <td>History,Military History,Civil War,American Hi...</td>\n",
       "      <td>https://i.gr-assets.com/images/S/compressed.ph...</td>\n",
       "      <td>002914180X</td>\n",
       "      <td>9.78E+12</td>\n",
       "      <td>https://goodreads.com/book/show/1001053.Betwee...</td>\n",
       "      <td>0</td>\n",
       "      <td>3.52</td>\n",
       "      <td>5</td>\n",
       "      <td>Between Two Fires: American Indians in the Civ...</td>\n",
       "      <td>33</td>\n",
       "    </tr>\n",
       "    <tr>\n",
       "      <th>1</th>\n",
       "      <td>Charlotte Fiell,Emmanuelle Dirix</td>\n",
       "      <td>Paperback</td>\n",
       "      <td>Fashion Sourcebook - 1920s is the first book i...</td>\n",
       "      <td>Couture,Fashion,Historical,Art,Nonfiction</td>\n",
       "      <td>https://i.gr-assets.com/images/S/compressed.ph...</td>\n",
       "      <td>1906863482</td>\n",
       "      <td>9.78E+12</td>\n",
       "      <td>https://goodreads.com/book/show/10010552-fashi...</td>\n",
       "      <td>576</td>\n",
       "      <td>4.51</td>\n",
       "      <td>6</td>\n",
       "      <td>Fashion Sourcebook 1920s</td>\n",
       "      <td>41</td>\n",
       "    </tr>\n",
       "    <tr>\n",
       "      <th>2</th>\n",
       "      <td>Andy Anderson</td>\n",
       "      <td>Paperback</td>\n",
       "      <td>The seminal history and analysis of the Hungar...</td>\n",
       "      <td>Politics,History</td>\n",
       "      <td>https://i.gr-assets.com/images/S/compressed.ph...</td>\n",
       "      <td>948984147</td>\n",
       "      <td>9.78E+12</td>\n",
       "      <td>https://goodreads.com/book/show/1001077.Hungar...</td>\n",
       "      <td>124</td>\n",
       "      <td>4.15</td>\n",
       "      <td>2</td>\n",
       "      <td>Hungary 56</td>\n",
       "      <td>26</td>\n",
       "    </tr>\n",
       "    <tr>\n",
       "      <th>3</th>\n",
       "      <td>Carlotta R. Anderson</td>\n",
       "      <td>Hardcover</td>\n",
       "      <td>\"All-American Anarchist\" chronicles the life a...</td>\n",
       "      <td>Labor,History</td>\n",
       "      <td>https://i.gr-assets.com/images/S/compressed.ph...</td>\n",
       "      <td>814327079</td>\n",
       "      <td>9.78E+12</td>\n",
       "      <td>https://goodreads.com/book/show/1001079.All_Am...</td>\n",
       "      <td>324</td>\n",
       "      <td>3.83</td>\n",
       "      <td>1</td>\n",
       "      <td>All-American Anarchist: Joseph A. Labadie and ...</td>\n",
       "      <td>6</td>\n",
       "    </tr>\n",
       "    <tr>\n",
       "      <th>4</th>\n",
       "      <td>Jean Leveille</td>\n",
       "      <td>NaN</td>\n",
       "      <td>Aujourdâ€™hui, lâ€™oiseau nous invite Ã  sa ta...</td>\n",
       "      <td>NaN</td>\n",
       "      <td>https://i.gr-assets.com/images/S/compressed.ph...</td>\n",
       "      <td>2761920813</td>\n",
       "      <td>NaN</td>\n",
       "      <td>https://goodreads.com/book/show/10010880-les-o...</td>\n",
       "      <td>177</td>\n",
       "      <td>4.00</td>\n",
       "      <td>1</td>\n",
       "      <td>Les oiseaux gourmands</td>\n",
       "      <td>1</td>\n",
       "    </tr>\n",
       "  </tbody>\n",
       "</table>\n",
       "</div>"
      ],
      "text/plain": [
       "                             author bookformat                                               desc                                              genre  \\\n",
       "0              Laurence M. Hauptman  Hardcover  Reveals that several hundred thousand Indians ...  History,Military History,Civil War,American Hi...   \n",
       "1  Charlotte Fiell,Emmanuelle Dirix  Paperback  Fashion Sourcebook - 1920s is the first book i...          Couture,Fashion,Historical,Art,Nonfiction   \n",
       "2                     Andy Anderson  Paperback  The seminal history and analysis of the Hungar...                                   Politics,History   \n",
       "3              Carlotta R. Anderson  Hardcover  \"All-American Anarchist\" chronicles the life a...                                      Labor,History   \n",
       "4                     Jean Leveille        NaN  Aujourdâ€™hui, lâ€™oiseau nous invite Ã  sa ta...                                                NaN   \n",
       "\n",
       "                                                 img        isbn    isbn13                                               link  pages  rating  reviews  \\\n",
       "0  https://i.gr-assets.com/images/S/compressed.ph...  002914180X  9.78E+12  https://goodreads.com/book/show/1001053.Betwee...      0    3.52        5   \n",
       "1  https://i.gr-assets.com/images/S/compressed.ph...  1906863482  9.78E+12  https://goodreads.com/book/show/10010552-fashi...    576    4.51        6   \n",
       "2  https://i.gr-assets.com/images/S/compressed.ph...   948984147  9.78E+12  https://goodreads.com/book/show/1001077.Hungar...    124    4.15        2   \n",
       "3  https://i.gr-assets.com/images/S/compressed.ph...   814327079  9.78E+12  https://goodreads.com/book/show/1001079.All_Am...    324    3.83        1   \n",
       "4  https://i.gr-assets.com/images/S/compressed.ph...  2761920813       NaN  https://goodreads.com/book/show/10010880-les-o...    177    4.00        1   \n",
       "\n",
       "                                               title  totalratings  \n",
       "0  Between Two Fires: American Indians in the Civ...            33  \n",
       "1                           Fashion Sourcebook 1920s            41  \n",
       "2                                         Hungary 56            26  \n",
       "3  All-American Anarchist: Joseph A. Labadie and ...             6  \n",
       "4                              Les oiseaux gourmands             1  "
      ]
     },
     "execution_count": 3,
     "metadata": {},
     "output_type": "execute_result"
    }
   ],
   "source": [
    "df.head()"
   ]
  },
  {
   "cell_type": "code",
   "execution_count": 4,
   "id": "41de5092-4785-40ba-aeee-8ca00edba0d4",
   "metadata": {},
   "outputs": [
    {
     "name": "stdout",
     "output_type": "stream",
     "text": [
      "<class 'pandas.core.frame.DataFrame'>\n",
      "RangeIndex: 100000 entries, 0 to 99999\n",
      "Data columns (total 13 columns):\n",
      " #   Column        Non-Null Count   Dtype  \n",
      "---  ------        --------------   -----  \n",
      " 0   author        100000 non-null  object \n",
      " 1   bookformat    96772 non-null   object \n",
      " 2   desc          93228 non-null   object \n",
      " 3   genre         89533 non-null   object \n",
      " 4   img           96955 non-null   object \n",
      " 5   isbn          85518 non-null   object \n",
      " 6   isbn13        88565 non-null   object \n",
      " 7   link          100000 non-null  object \n",
      " 8   pages         100000 non-null  int64  \n",
      " 9   rating        100000 non-null  float64\n",
      " 10  reviews       100000 non-null  int64  \n",
      " 11  title         99999 non-null   object \n",
      " 12  totalratings  100000 non-null  int64  \n",
      "dtypes: float64(1), int64(3), object(9)\n",
      "memory usage: 9.9+ MB\n"
     ]
    }
   ],
   "source": [
    "df.info()"
   ]
  },
  {
   "cell_type": "code",
   "execution_count": 5,
   "id": "638d946f-dda0-4be6-8eef-4d155bb4625e",
   "metadata": {},
   "outputs": [
    {
     "data": {
      "text/plain": [
       "(100000, 13)"
      ]
     },
     "execution_count": 5,
     "metadata": {},
     "output_type": "execute_result"
    }
   ],
   "source": [
    "df.shape"
   ]
  },
  {
   "cell_type": "markdown",
   "id": "25442342-876a-4bdb-8252-ff43a9cf70ca",
   "metadata": {},
   "source": [
    "**The dataset contains 100000 observations and 13 columns.**"
   ]
  },
  {
   "cell_type": "code",
   "execution_count": 6,
   "id": "db6d96b9-69ff-40f7-8ad6-bb7769c3bb44",
   "metadata": {},
   "outputs": [
    {
     "data": {
      "text/plain": [
       "author              0\n",
       "bookformat       3228\n",
       "desc             6772\n",
       "genre           10467\n",
       "img              3045\n",
       "isbn            14482\n",
       "isbn13          11435\n",
       "link                0\n",
       "pages               0\n",
       "rating              0\n",
       "reviews             0\n",
       "title               1\n",
       "totalratings        0\n",
       "dtype: int64"
      ]
     },
     "execution_count": 6,
     "metadata": {},
     "output_type": "execute_result"
    }
   ],
   "source": [
    "df.isnull().sum()"
   ]
  },
  {
   "cell_type": "code",
   "execution_count": 7,
   "id": "cde5d424-0246-4cf3-8b6b-1051304f04d7",
   "metadata": {},
   "outputs": [
    {
     "data": {
      "text/plain": [
       "7752"
      ]
     },
     "execution_count": 7,
     "metadata": {},
     "output_type": "execute_result"
    }
   ],
   "source": [
    "df[df['pages'] == 0].shape[0]"
   ]
  },
  {
   "cell_type": "code",
   "execution_count": 8,
   "id": "54490d07-b3e0-4fe4-bfd6-a0411885e4a9",
   "metadata": {},
   "outputs": [],
   "source": [
    "df = df[df['pages'] != 0]"
   ]
  },
  {
   "cell_type": "markdown",
   "id": "afdb8fde-9d83-4fb8-8012-f0c71176e494",
   "metadata": {},
   "source": [
    "**When we look at the first 5 observations with the head function, it is found that there are books with 0 pages.These observations should be dropped from the dataset.**"
   ]
  },
  {
   "cell_type": "code",
   "execution_count": 9,
   "id": "b5eafc78-fb5f-4cb2-81f3-2e33b1645631",
   "metadata": {},
   "outputs": [],
   "source": [
    "df.drop(['img', 'isbn', 'isbn13', 'link'], axis=1, inplace=True)"
   ]
  },
  {
   "cell_type": "code",
   "execution_count": 10,
   "id": "63891b3b-b720-4d7c-8f19-233e63a433ba",
   "metadata": {},
   "outputs": [],
   "source": [
    "df.dropna(inplace=True)"
   ]
  },
  {
   "cell_type": "code",
   "execution_count": 11,
   "id": "d1a01805-e4a4-476b-b9ca-0cf3a2a1fb92",
   "metadata": {},
   "outputs": [
    {
     "data": {
      "text/html": [
       "<div>\n",
       "<style scoped>\n",
       "    .dataframe tbody tr th:only-of-type {\n",
       "        vertical-align: middle;\n",
       "    }\n",
       "\n",
       "    .dataframe tbody tr th {\n",
       "        vertical-align: top;\n",
       "    }\n",
       "\n",
       "    .dataframe thead th {\n",
       "        text-align: right;\n",
       "    }\n",
       "</style>\n",
       "<table border=\"1\" class=\"dataframe\">\n",
       "  <thead>\n",
       "    <tr style=\"text-align: right;\">\n",
       "      <th></th>\n",
       "      <th>author</th>\n",
       "      <th>bookformat</th>\n",
       "      <th>desc</th>\n",
       "      <th>genre</th>\n",
       "      <th>pages</th>\n",
       "      <th>rating</th>\n",
       "      <th>reviews</th>\n",
       "      <th>title</th>\n",
       "      <th>totalratings</th>\n",
       "    </tr>\n",
       "  </thead>\n",
       "  <tbody>\n",
       "    <tr>\n",
       "      <th>1</th>\n",
       "      <td>Charlotte Fiell,Emmanuelle Dirix</td>\n",
       "      <td>Paperback</td>\n",
       "      <td>Fashion Sourcebook - 1920s is the first book i...</td>\n",
       "      <td>Couture,Fashion,Historical,Art,Nonfiction</td>\n",
       "      <td>576</td>\n",
       "      <td>4.51</td>\n",
       "      <td>6</td>\n",
       "      <td>Fashion Sourcebook 1920s</td>\n",
       "      <td>41</td>\n",
       "    </tr>\n",
       "    <tr>\n",
       "      <th>2</th>\n",
       "      <td>Andy Anderson</td>\n",
       "      <td>Paperback</td>\n",
       "      <td>The seminal history and analysis of the Hungar...</td>\n",
       "      <td>Politics,History</td>\n",
       "      <td>124</td>\n",
       "      <td>4.15</td>\n",
       "      <td>2</td>\n",
       "      <td>Hungary 56</td>\n",
       "      <td>26</td>\n",
       "    </tr>\n",
       "    <tr>\n",
       "      <th>3</th>\n",
       "      <td>Carlotta R. Anderson</td>\n",
       "      <td>Hardcover</td>\n",
       "      <td>\"All-American Anarchist\" chronicles the life a...</td>\n",
       "      <td>Labor,History</td>\n",
       "      <td>324</td>\n",
       "      <td>3.83</td>\n",
       "      <td>1</td>\n",
       "      <td>All-American Anarchist: Joseph A. Labadie and ...</td>\n",
       "      <td>6</td>\n",
       "    </tr>\n",
       "    <tr>\n",
       "      <th>5</th>\n",
       "      <td>Jeffrey Pfeffer</td>\n",
       "      <td>Hardcover</td>\n",
       "      <td>Why is common sense so uncommon when it comes ...</td>\n",
       "      <td>Business,Leadership,Romance,Historical Romance...</td>\n",
       "      <td>368</td>\n",
       "      <td>3.73</td>\n",
       "      <td>7</td>\n",
       "      <td>The Human Equation: Building Profits by Puttin...</td>\n",
       "      <td>119</td>\n",
       "    </tr>\n",
       "    <tr>\n",
       "      <th>6</th>\n",
       "      <td>Jeffrey Pfeffer</td>\n",
       "      <td>Paperback</td>\n",
       "      <td>\"Competitive Advantage Through People\" explore...</td>\n",
       "      <td>Business,Leadership,Business,Management,Romanc...</td>\n",
       "      <td>304</td>\n",
       "      <td>3.65</td>\n",
       "      <td>1</td>\n",
       "      <td>Competitive Advantage Through People: Unleashi...</td>\n",
       "      <td>20</td>\n",
       "    </tr>\n",
       "  </tbody>\n",
       "</table>\n",
       "</div>"
      ],
      "text/plain": [
       "                             author bookformat                                               desc                                              genre  pages  rating  reviews  \\\n",
       "1  Charlotte Fiell,Emmanuelle Dirix  Paperback  Fashion Sourcebook - 1920s is the first book i...          Couture,Fashion,Historical,Art,Nonfiction    576    4.51        6   \n",
       "2                     Andy Anderson  Paperback  The seminal history and analysis of the Hungar...                                   Politics,History    124    4.15        2   \n",
       "3              Carlotta R. Anderson  Hardcover  \"All-American Anarchist\" chronicles the life a...                                      Labor,History    324    3.83        1   \n",
       "5                   Jeffrey Pfeffer  Hardcover  Why is common sense so uncommon when it comes ...  Business,Leadership,Romance,Historical Romance...    368    3.73        7   \n",
       "6                   Jeffrey Pfeffer  Paperback  \"Competitive Advantage Through People\" explore...  Business,Leadership,Business,Management,Romanc...    304    3.65        1   \n",
       "\n",
       "                                               title  totalratings  \n",
       "1                           Fashion Sourcebook 1920s            41  \n",
       "2                                         Hungary 56            26  \n",
       "3  All-American Anarchist: Joseph A. Labadie and ...             6  \n",
       "5  The Human Equation: Building Profits by Puttin...           119  \n",
       "6  Competitive Advantage Through People: Unleashi...            20  "
      ]
     },
     "execution_count": 11,
     "metadata": {},
     "output_type": "execute_result"
    }
   ],
   "source": [
    "df.head()"
   ]
  },
  {
   "cell_type": "code",
   "execution_count": 12,
   "id": "10517126-72ea-48a9-ac01-bcdd00b65661",
   "metadata": {},
   "outputs": [
    {
     "data": {
      "text/plain": [
       "(79754, 9)"
      ]
     },
     "execution_count": 12,
     "metadata": {},
     "output_type": "execute_result"
    }
   ],
   "source": [
    "df.shape"
   ]
  },
  {
   "cell_type": "markdown",
   "id": "939297fc-7b8d-491b-bcac-aba0440f3ef8",
   "metadata": {},
   "source": [
    "## Title Analysis"
   ]
  },
  {
   "cell_type": "code",
   "execution_count": 13,
   "id": "e4c50243-459f-493a-b855-392b4e78430e",
   "metadata": {},
   "outputs": [
    {
     "data": {
      "text/plain": [
       "77847"
      ]
     },
     "execution_count": 13,
     "metadata": {},
     "output_type": "execute_result"
    }
   ],
   "source": [
    "# how many unique titles are there ?\n",
    "\n",
    "df['title'].nunique()"
   ]
  },
  {
   "cell_type": "code",
   "execution_count": 14,
   "id": "52b74b21-a435-443c-ab4a-08f3cf1d4ed1",
   "metadata": {},
   "outputs": [
    {
     "data": {
      "image/png": "[encoded data removed]",
      "text/plain": [
       "<Figure size 1080x576 with 1 Axes>"
      ]
     },
     "metadata": {
      "needs_background": "light"
     },
     "output_type": "display_data"
    }
   ],
   "source": [
    "plt.figure(figsize=(15, 8))\n",
    "most_reviewed = df.groupby('title')[['reviews']].sum().sort_values(by='reviews', ascending=False).reset_index()[:20]\n",
    "\n",
    "palette = sns.color_palette('Greens_r', 30)\n",
    "ax = plt.barh(most_reviewed['title'] , most_reviewed['reviews'], color=palette)\n",
    "for p in ax.patches:\n",
    "    width = p.get_width()\n",
    "    plt.text(4500+p.get_width(), p.get_y()+0.6*p.get_height(),\n",
    "             '{:d}'.format(width),\n",
    "             ha='center', va='center', fontsize=9.5)\n",
    "plt.gca().invert_yaxis()\n",
    "plt.title('Top 20 Most Reviewed Books', fontsize=16)\n",
    "plt.show()"
   ]
  },
  {
   "cell_type": "code",
   "execution_count": 15,
   "id": "d092d80e-53db-4bca-8777-c3b3a7fc4386",
   "metadata": {},
   "outputs": [
    {
     "data": {
      "image/png": "[encoded data removed]",
      "text/plain": [
       "<Figure size 1080x576 with 1 Axes>"
      ]
     },
     "metadata": {
      "needs_background": "light"
     },
     "output_type": "display_data"
    }
   ],
   "source": [
    "plt.figure(figsize=(15, 8))\n",
    "most_rated = df.groupby('title')[['totalratings']].sum().sort_values(by='totalratings', ascending=False).reset_index()[:20]\n",
    "\n",
    "palette = sns.color_palette('Greens_r', 30)\n",
    "ax = plt.barh(most_rated['title'] , most_rated['totalratings'], color=palette)\n",
    "for p in ax.patches:\n",
    "    width = p.get_width()\n",
    "    plt.text(95000+p.get_width(), p.get_y()+0.6*p.get_height(),\n",
    "             '{:d}'.format(width),\n",
    "             ha='center', va='center', fontsize=9.5)\n",
    "plt.gca().invert_yaxis()\n",
    "plt.title('Top 20 Most Rated Books', fontsize=16)\n",
    "plt.show()"
   ]
  },
  {
   "cell_type": "markdown",
   "id": "927fe658-9862-445f-b096-44c3f9ebd8c1",
   "metadata": {},
   "source": [
    "####  Titles with the highest rating among titles with a total rating count of at least 100k "
   ]
  },
  {
   "cell_type": "code",
   "execution_count": 16,
   "id": "35354ab2-1c64-442c-9c02-9a93a613482d",
   "metadata": {},
   "outputs": [
    {
     "data": {
      "text/html": [
       "<div>\n",
       "<style scoped>\n",
       "    .dataframe tbody tr th:only-of-type {\n",
       "        vertical-align: middle;\n",
       "    }\n",
       "\n",
       "    .dataframe tbody tr th {\n",
       "        vertical-align: top;\n",
       "    }\n",
       "\n",
       "    .dataframe thead th {\n",
       "        text-align: right;\n",
       "    }\n",
       "</style>\n",
       "<table border=\"1\" class=\"dataframe\">\n",
       "  <thead>\n",
       "    <tr style=\"text-align: right;\">\n",
       "      <th></th>\n",
       "      <th>rating</th>\n",
       "      <th>totalratings</th>\n",
       "    </tr>\n",
       "    <tr>\n",
       "      <th>title</th>\n",
       "      <th></th>\n",
       "      <th></th>\n",
       "    </tr>\n",
       "  </thead>\n",
       "  <tbody>\n",
       "    <tr>\n",
       "      <th>Harry Potter and the Deathly Hallows</th>\n",
       "      <td>4.62</td>\n",
       "      <td>2984351</td>\n",
       "    </tr>\n",
       "    <tr>\n",
       "      <th>Harry Potter and the Order of the Phoenix (Harry Potter, #5, Part 1)</th>\n",
       "      <td>4.62</td>\n",
       "      <td>133779</td>\n",
       "    </tr>\n",
       "    <tr>\n",
       "      <th>The Wise Man's Fear</th>\n",
       "      <td>4.54</td>\n",
       "      <td>456510</td>\n",
       "    </tr>\n",
       "    <tr>\n",
       "      <th>The Complete Maus</th>\n",
       "      <td>4.53</td>\n",
       "      <td>153660</td>\n",
       "    </tr>\n",
       "    <tr>\n",
       "      <th>The House of Hades</th>\n",
       "      <td>4.52</td>\n",
       "      <td>294712</td>\n",
       "    </tr>\n",
       "    <tr>\n",
       "      <th>The Hunger Games: Official Illustrated Movie Companion</th>\n",
       "      <td>4.52</td>\n",
       "      <td>175110</td>\n",
       "    </tr>\n",
       "    <tr>\n",
       "      <th>Redeeming Love</th>\n",
       "      <td>4.50</td>\n",
       "      <td>226121</td>\n",
       "    </tr>\n",
       "    <tr>\n",
       "      <th>The Green Mile</th>\n",
       "      <td>4.45</td>\n",
       "      <td>261605</td>\n",
       "    </tr>\n",
       "    <tr>\n",
       "      <th>Death Note, Vol. 1: Boredom</th>\n",
       "      <td>4.45</td>\n",
       "      <td>209127</td>\n",
       "    </tr>\n",
       "    <tr>\n",
       "      <th>A Game of Thrones</th>\n",
       "      <td>4.44</td>\n",
       "      <td>2097707</td>\n",
       "    </tr>\n",
       "  </tbody>\n",
       "</table>\n",
       "</div>"
      ],
      "text/plain": [
       "                                                    rating  totalratings\n",
       "title                                                                   \n",
       "Harry Potter and the Deathly Hallows                  4.62       2984351\n",
       "Harry Potter and the Order of the Phoenix (Harr...    4.62        133779\n",
       "The Wise Man's Fear                                   4.54        456510\n",
       "The Complete Maus                                     4.53        153660\n",
       "The House of Hades                                    4.52        294712\n",
       "The Hunger Games: Official Illustrated Movie Co...    4.52        175110\n",
       "Redeeming Love                                        4.50        226121\n",
       "The Green Mile                                        4.45        261605\n",
       "Death Note, Vol. 1: Boredom                           4.45        209127\n",
       "A Game of Thrones                                     4.44       2097707"
      ]
     },
     "execution_count": 16,
     "metadata": {},
     "output_type": "execute_result"
    }
   ],
   "source": [
    "df_ = df.groupby('title')[['totalratings']].sum().reset_index()\n",
    "filtered = df_[df_['totalratings'] > 100000].title.values.tolist()\n",
    "\n",
    "df[df['title'].isin(filtered)].groupby('title')[['totalratings', 'rating']]. \\\n",
    "                                agg({'rating':'mean','totalratings':'sum'}).sort_values(by=['rating', 'totalratings'],\n",
    "                                                                                        ascending=[False, False])[:10]"
   ]
  },
  {
   "cell_type": "markdown",
   "id": "ca9247c9-38c3-4a37-b327-30ccc248ab6e",
   "metadata": {},
   "source": [
    "#### Titles with the lowest rating among titles with a total rating count of at least 100k "
   ]
  },
  {
   "cell_type": "code",
   "execution_count": 17,
   "id": "d2a4b4dc-638f-4af7-86e6-d52289984a6d",
   "metadata": {},
   "outputs": [
    {
     "data": {
      "text/html": [
       "<div>\n",
       "<style scoped>\n",
       "    .dataframe tbody tr th:only-of-type {\n",
       "        vertical-align: middle;\n",
       "    }\n",
       "\n",
       "    .dataframe tbody tr th {\n",
       "        vertical-align: top;\n",
       "    }\n",
       "\n",
       "    .dataframe thead th {\n",
       "        text-align: right;\n",
       "    }\n",
       "</style>\n",
       "<table border=\"1\" class=\"dataframe\">\n",
       "  <thead>\n",
       "    <tr style=\"text-align: right;\">\n",
       "      <th></th>\n",
       "      <th>rating</th>\n",
       "      <th>totalratings</th>\n",
       "    </tr>\n",
       "    <tr>\n",
       "      <th>title</th>\n",
       "      <th></th>\n",
       "      <th></th>\n",
       "    </tr>\n",
       "  </thead>\n",
       "  <tbody>\n",
       "    <tr>\n",
       "      <th>The Casual Vacancy</th>\n",
       "      <td>3.30</td>\n",
       "      <td>313167</td>\n",
       "    </tr>\n",
       "    <tr>\n",
       "      <th>The Silent Wife</th>\n",
       "      <td>3.32</td>\n",
       "      <td>104078</td>\n",
       "    </tr>\n",
       "    <tr>\n",
       "      <th>The Scarlet Letter</th>\n",
       "      <td>3.42</td>\n",
       "      <td>733658</td>\n",
       "    </tr>\n",
       "    <tr>\n",
       "      <th>The Turn of the Screw</th>\n",
       "      <td>3.42</td>\n",
       "      <td>117055</td>\n",
       "    </tr>\n",
       "    <tr>\n",
       "      <th>The Marriage Plot</th>\n",
       "      <td>3.45</td>\n",
       "      <td>113354</td>\n",
       "    </tr>\n",
       "    <tr>\n",
       "      <th>Moby-Dick or, the Whale</th>\n",
       "      <td>3.51</td>\n",
       "      <td>493984</td>\n",
       "    </tr>\n",
       "    <tr>\n",
       "      <th>The Tenth Circle</th>\n",
       "      <td>3.51</td>\n",
       "      <td>122618</td>\n",
       "    </tr>\n",
       "    <tr>\n",
       "      <th>Crossed</th>\n",
       "      <td>3.53</td>\n",
       "      <td>224446</td>\n",
       "    </tr>\n",
       "    <tr>\n",
       "      <th>Death of a Salesman</th>\n",
       "      <td>3.54</td>\n",
       "      <td>195711</td>\n",
       "    </tr>\n",
       "    <tr>\n",
       "      <th>Life After Life</th>\n",
       "      <td>3.54</td>\n",
       "      <td>211483</td>\n",
       "    </tr>\n",
       "  </tbody>\n",
       "</table>\n",
       "</div>"
      ],
      "text/plain": [
       "                         rating  totalratings\n",
       "title                                        \n",
       "The Casual Vacancy         3.30        313167\n",
       "The Silent Wife            3.32        104078\n",
       "The Scarlet Letter         3.42        733658\n",
       "The Turn of the Screw      3.42        117055\n",
       "The Marriage Plot          3.45        113354\n",
       "Moby-Dick or, the Whale    3.51        493984\n",
       "The Tenth Circle           3.51        122618\n",
       "Crossed                    3.53        224446\n",
       "Death of a Salesman        3.54        195711\n",
       "Life After Life            3.54        211483"
      ]
     },
     "execution_count": 17,
     "metadata": {},
     "output_type": "execute_result"
    }
   ],
   "source": [
    "df[df['title'].isin(filtered)].groupby('title')[['totalratings', 'rating']]. \\\n",
    "                               agg({'rating':'mean','totalratings':'sum'}).sort_values(by=['rating', 'totalratings'], \n",
    "                                                                                       ascending=[True, False])[:10]"
   ]
  },
  {
   "cell_type": "markdown",
   "id": "86f4713f-c017-4917-b9ea-f9684efdd62f",
   "metadata": {},
   "source": [
    "### Bookformat Analysis"
   ]
  },
  {
   "cell_type": "code",
   "execution_count": 18,
   "id": "8a01bc0d-f81a-4841-954d-0d5387fbcb33",
   "metadata": {},
   "outputs": [
    {
     "data": {
      "text/html": [
       "<div>\n",
       "<style scoped>\n",
       "    .dataframe tbody tr th:only-of-type {\n",
       "        vertical-align: middle;\n",
       "    }\n",
       "\n",
       "    .dataframe tbody tr th {\n",
       "        vertical-align: top;\n",
       "    }\n",
       "\n",
       "    .dataframe thead th {\n",
       "        text-align: right;\n",
       "    }\n",
       "</style>\n",
       "<table border=\"1\" class=\"dataframe\">\n",
       "  <thead>\n",
       "    <tr style=\"text-align: right;\">\n",
       "      <th></th>\n",
       "      <th>count</th>\n",
       "      <th>mean</th>\n",
       "    </tr>\n",
       "    <tr>\n",
       "      <th>bookformat</th>\n",
       "      <th></th>\n",
       "      <th></th>\n",
       "    </tr>\n",
       "  </thead>\n",
       "  <tbody>\n",
       "    <tr>\n",
       "      <th>Paperback</th>\n",
       "      <td>44817</td>\n",
       "      <td>3.91</td>\n",
       "    </tr>\n",
       "    <tr>\n",
       "      <th>Hardcover</th>\n",
       "      <td>22811</td>\n",
       "      <td>3.91</td>\n",
       "    </tr>\n",
       "    <tr>\n",
       "      <th>ebook</th>\n",
       "      <td>4116</td>\n",
       "      <td>3.80</td>\n",
       "    </tr>\n",
       "    <tr>\n",
       "      <th>Kindle Edition</th>\n",
       "      <td>3982</td>\n",
       "      <td>3.84</td>\n",
       "    </tr>\n",
       "    <tr>\n",
       "      <th>Mass Market Paperback</th>\n",
       "      <td>2752</td>\n",
       "      <td>3.82</td>\n",
       "    </tr>\n",
       "  </tbody>\n",
       "</table>\n",
       "</div>"
      ],
      "text/plain": [
       "                       count  mean\n",
       "bookformat                        \n",
       "Paperback              44817  3.91\n",
       "Hardcover              22811  3.91\n",
       "ebook                   4116  3.80\n",
       "Kindle Edition          3982  3.84\n",
       "Mass Market Paperback   2752  3.82"
      ]
     },
     "execution_count": 18,
     "metadata": {},
     "output_type": "execute_result"
    }
   ],
   "source": [
    "df.groupby('bookformat')['rating'].agg({'count', 'mean'}).sort_values(by='count', ascending=False)[:5]"
   ]
  },
  {
   "cell_type": "markdown",
   "id": "56002fbf-d879-4e44-a854-b261e09948ec",
   "metadata": {},
   "source": [
    "### Pages Analysis"
   ]
  },
  {
   "cell_type": "code",
   "execution_count": 19,
   "id": "f0dbc168-947f-4143-a862-74c966f51921",
   "metadata": {},
   "outputs": [
    {
     "data": {
      "text/plain": [
       "(-69.0, 10000.857]        79750\n",
       "(10000.857, 20000.714]        1\n",
       "(20000.714, 30000.571]        1\n",
       "(30000.571, 40000.429]        1\n",
       "(60000.143, 70000.0]          1\n",
       "(40000.429, 50000.286]        0\n",
       "(50000.286, 60000.143]        0\n",
       "Name: pages, dtype: int64"
      ]
     },
     "execution_count": 19,
     "metadata": {},
     "output_type": "execute_result"
    }
   ],
   "source": [
    "df['pages'].value_counts(bins=7)"
   ]
  },
  {
   "cell_type": "code",
   "execution_count": 20,
   "id": "61d1a3b8-d26e-4d1a-8c54-a877cd4b479f",
   "metadata": {},
   "outputs": [
    {
     "data": {
      "text/html": [
       "<div>\n",
       "<style scoped>\n",
       "    .dataframe tbody tr th:only-of-type {\n",
       "        vertical-align: middle;\n",
       "    }\n",
       "\n",
       "    .dataframe tbody tr th {\n",
       "        vertical-align: top;\n",
       "    }\n",
       "\n",
       "    .dataframe thead th {\n",
       "        text-align: right;\n",
       "    }\n",
       "</style>\n",
       "<table border=\"1\" class=\"dataframe\">\n",
       "  <thead>\n",
       "    <tr style=\"text-align: right;\">\n",
       "      <th></th>\n",
       "      <th>author</th>\n",
       "      <th>bookformat</th>\n",
       "      <th>desc</th>\n",
       "      <th>genre</th>\n",
       "      <th>pages</th>\n",
       "      <th>rating</th>\n",
       "      <th>reviews</th>\n",
       "      <th>title</th>\n",
       "      <th>totalratings</th>\n",
       "    </tr>\n",
       "  </thead>\n",
       "  <tbody>\n",
       "    <tr>\n",
       "      <th>22871</th>\n",
       "      <td>Charles Dickens</td>\n",
       "      <td>Kindle Edition</td>\n",
       "      <td>* ALL 15 Novels and ALL illustrated with the o...</td>\n",
       "      <td>Classics,Fiction,Literature,Anthologies,Collec...</td>\n",
       "      <td>21723</td>\n",
       "      <td>4.41</td>\n",
       "      <td>22</td>\n",
       "      <td>The Complete Works of Charles Dickens</td>\n",
       "      <td>1488</td>\n",
       "    </tr>\n",
       "    <tr>\n",
       "      <th>29938</th>\n",
       "      <td>Phyllis Peterson</td>\n",
       "      <td>Hardcover</td>\n",
       "      <td>Assisting the Traumatized Soul reaches out to ...</td>\n",
       "      <td>Religion,Baha I</td>\n",
       "      <td>70000</td>\n",
       "      <td>4.75</td>\n",
       "      <td>0</td>\n",
       "      <td>Assisting the Traumatized Soul: Healing the Wo...</td>\n",
       "      <td>4</td>\n",
       "    </tr>\n",
       "    <tr>\n",
       "      <th>83512</th>\n",
       "      <td>EncyclopÃ¦dia Britannica</td>\n",
       "      <td>Hardcover</td>\n",
       "      <td>Comprises one Propaedia (outline of knowledge)...</td>\n",
       "      <td>Reference,Reference,Dictionaries,Nonfiction</td>\n",
       "      <td>32000</td>\n",
       "      <td>4.46</td>\n",
       "      <td>16</td>\n",
       "      <td>Encyclopaedia Britannica (Set)</td>\n",
       "      <td>89</td>\n",
       "    </tr>\n",
       "    <tr>\n",
       "      <th>96255</th>\n",
       "      <td>HonorÃ© de Balzac</td>\n",
       "      <td>Kindle Edition</td>\n",
       "      <td>This comprehensive eBook presents the complete...</td>\n",
       "      <td>Fiction,Classics,Cultural,France,Anthologies,C...</td>\n",
       "      <td>15918</td>\n",
       "      <td>4.30</td>\n",
       "      <td>7</td>\n",
       "      <td>Works of Honore de Balzac</td>\n",
       "      <td>177</td>\n",
       "    </tr>\n",
       "  </tbody>\n",
       "</table>\n",
       "</div>"
      ],
      "text/plain": [
       "                         author      bookformat                                               desc                                              genre  pages  rating  reviews  \\\n",
       "22871           Charles Dickens  Kindle Edition  * ALL 15 Novels and ALL illustrated with the o...  Classics,Fiction,Literature,Anthologies,Collec...  21723    4.41       22   \n",
       "29938          Phyllis Peterson       Hardcover  Assisting the Traumatized Soul reaches out to ...                                    Religion,Baha I  70000    4.75        0   \n",
       "83512  EncyclopÃ¦dia Britannica       Hardcover  Comprises one Propaedia (outline of knowledge)...        Reference,Reference,Dictionaries,Nonfiction  32000    4.46       16   \n",
       "96255         HonorÃ© de Balzac  Kindle Edition  This comprehensive eBook presents the complete...  Fiction,Classics,Cultural,France,Anthologies,C...  15918    4.30        7   \n",
       "\n",
       "                                                   title  totalratings  \n",
       "22871              The Complete Works of Charles Dickens          1488  \n",
       "29938  Assisting the Traumatized Soul: Healing the Wo...             4  \n",
       "83512                     Encyclopaedia Britannica (Set)            89  \n",
       "96255                          Works of Honore de Balzac           177  "
      ]
     },
     "execution_count": 20,
     "metadata": {},
     "output_type": "execute_result"
    }
   ],
   "source": [
    "df[df['pages'] > 10000]"
   ]
  },
  {
   "cell_type": "code",
   "execution_count": 21,
   "id": "7ef7954a-7391-4475-b921-5f293ee2e994",
   "metadata": {},
   "outputs": [],
   "source": [
    "df = df.loc[df['title'] != 'Assisting the Traumatized Soul: Healing the Wounded Talisman' ]"
   ]
  },
  {
   "cell_type": "code",
   "execution_count": 22,
   "id": "bc97f60e-ac1c-4a68-b143-49889dfd7c6a",
   "metadata": {},
   "outputs": [
    {
     "data": {
      "text/html": [
       "<div>\n",
       "<style scoped>\n",
       "    .dataframe tbody tr th:only-of-type {\n",
       "        vertical-align: middle;\n",
       "    }\n",
       "\n",
       "    .dataframe tbody tr th {\n",
       "        vertical-align: top;\n",
       "    }\n",
       "\n",
       "    .dataframe thead th {\n",
       "        text-align: right;\n",
       "    }\n",
       "</style>\n",
       "<table border=\"1\" class=\"dataframe\">\n",
       "  <thead>\n",
       "    <tr style=\"text-align: right;\">\n",
       "      <th></th>\n",
       "      <th>count</th>\n",
       "      <th>mean</th>\n",
       "      <th>std</th>\n",
       "      <th>min</th>\n",
       "      <th>5%</th>\n",
       "      <th>10%</th>\n",
       "      <th>25%</th>\n",
       "      <th>50%</th>\n",
       "      <th>75%</th>\n",
       "      <th>90%</th>\n",
       "      <th>95%</th>\n",
       "      <th>max</th>\n",
       "    </tr>\n",
       "  </thead>\n",
       "  <tbody>\n",
       "    <tr>\n",
       "      <th>pages</th>\n",
       "      <td>79753.00</td>\n",
       "      <td>279.12</td>\n",
       "      <td>245.03</td>\n",
       "      <td>1.00</td>\n",
       "      <td>40.00</td>\n",
       "      <td>88.00</td>\n",
       "      <td>175.00</td>\n",
       "      <td>256.00</td>\n",
       "      <td>352.00</td>\n",
       "      <td>456.00</td>\n",
       "      <td>563.00</td>\n",
       "      <td>32000.00</td>\n",
       "    </tr>\n",
       "  </tbody>\n",
       "</table>\n",
       "</div>"
      ],
      "text/plain": [
       "         count   mean    std  min    5%   10%    25%    50%    75%    90%    95%      max\n",
       "pages 79753.00 279.12 245.03 1.00 40.00 88.00 175.00 256.00 352.00 456.00 563.00 32000.00"
      ]
     },
     "execution_count": 22,
     "metadata": {},
     "output_type": "execute_result"
    }
   ],
   "source": [
    "df[['pages']].describe([.05, .1, .25, .75, .9, .95]).T"
   ]
  },
  {
   "cell_type": "code",
   "execution_count": 23,
   "id": "f538fbfa-e4d1-4783-9de3-804b5d57424a",
   "metadata": {},
   "outputs": [
    {
     "data": {
      "image/png": "[encoded data removed]",
      "text/plain": [
       "<Figure size 1296x432 with 1 Axes>"
      ]
     },
     "metadata": {
      "needs_background": "light"
     },
     "output_type": "display_data"
    }
   ],
   "source": [
    "plt.figure(figsize=(18, 6))\n",
    "sns.boxenplot(x=df['pages'], color='Green');"
   ]
  },
  {
   "cell_type": "markdown",
   "id": "ddea04c6-ddcd-40a6-8d74-c77588cae678",
   "metadata": {},
   "source": [
    "**The books with a very high number of pages were examined. The title with the error was dropped from the dataset.**"
   ]
  },
  {
   "cell_type": "markdown",
   "id": "25f6cfbd-a63b-4429-ba0e-2ffce22d635d",
   "metadata": {},
   "source": [
    "### Genre Analysis"
   ]
  },
  {
   "cell_type": "code",
   "execution_count": 24,
   "id": "838ca91d-e18c-453d-98ee-16bf2cc14458",
   "metadata": {},
   "outputs": [],
   "source": [
    "df['genre'] = df['genre'].str.lower()\n",
    "df['genre'] = df['genre'].str.replace('[^\\w\\s]', ' ')\n",
    "df['genre'] = df['genre'].str.replace('\\d', '')"
   ]
  },
  {
   "cell_type": "code",
   "execution_count": 26,
   "id": "809531d1-d55e-46fd-9153-da6d3c9a17dd",
   "metadata": {},
   "outputs": [],
   "source": [
    "df['genre'] = df['genre'].str.replace(' m ', ' ')\n",
    "df['genre'] = df['genre'].str.replace(' th ', ' ')"
   ]
  },
  {
   "cell_type": "code",
   "execution_count": 27,
   "id": "ced5c7e2-3251-480e-819d-85974a82568b",
   "metadata": {},
   "outputs": [
    {
     "data": {
      "image/png": "[encoded data removed]",
      "text/plain": [
       "<Figure size 1080x864 with 1 Axes>"
      ]
     },
     "metadata": {
      "needs_background": "light"
     },
     "output_type": "display_data"
    }
   ],
   "source": [
    "text = \" \".join(i for i in df['genre'])\n",
    "mask = np.array(Image.open('09d318ee250c1c5bd3bc31ae7e4ed1d1.jpg'))\n",
    "wordcloud = WordCloud(max_font_size=100,\n",
    "                      max_words=75,\n",
    "                      background_color=\"black\",\n",
    "                      collocations=False,\n",
    "                      mask=mask,\n",
    "                      contour_width=1,\n",
    "                      contour_color=\"white\"\n",
    "                      ).generate(text)\n",
    "image_colors = ImageColorGenerator(mask)\n",
    "plt.figure(figsize=(15, 12))\n",
    "plt.imshow(wordcloud.recolor(color_func=image_colors), interpolation=\"bilinear\")\n",
    "plt.axis(\"off\")\n",
    "plt.show()"
   ]
  },
  {
   "cell_type": "markdown",
   "id": "b2c0ad51-f5ed-4b22-87db-3a238b1a9776",
   "metadata": {},
   "source": [
    "### Author Analysis"
   ]
  },
  {
   "cell_type": "code",
   "execution_count": 28,
   "id": "6f711514-e655-4228-b29d-43e6754c9f72",
   "metadata": {},
   "outputs": [
    {
     "data": {
      "text/plain": [
       "54909"
      ]
     },
     "execution_count": 28,
     "metadata": {},
     "output_type": "execute_result"
    }
   ],
   "source": [
    "df['author'].nunique()"
   ]
  },
  {
   "cell_type": "markdown",
   "id": "1204ce96-94dc-493c-b3d9-3b5c3ed8996b",
   "metadata": {},
   "source": [
    "**Due to the fact that some books have more than 1 author, split operations are required in the data set to achieve correct results.**"
   ]
  },
  {
   "cell_type": "code",
   "execution_count": 29,
   "id": "8e06fef1-0e32-4c98-968c-94f205feb146",
   "metadata": {},
   "outputs": [],
   "source": [
    "df[['a_1', 'a_2', 'a_3', 'a_4', 'a_5', 'a_6']] = df['author'].str.split(',', n=5, expand=True)"
   ]
  },
  {
   "cell_type": "code",
   "execution_count": 30,
   "id": "afcb930d-4292-4b5d-8f2c-eccc56620a31",
   "metadata": {},
   "outputs": [],
   "source": [
    "df.loc[df['a_6'].isnull() == False, 'a_6'] = 'Others'"
   ]
  },
  {
   "cell_type": "code",
   "execution_count": 31,
   "id": "52c1ded3-0bd6-4912-9ec1-5acd2ccb647d",
   "metadata": {},
   "outputs": [
    {
     "data": {
      "text/html": [
       "<div>\n",
       "<style scoped>\n",
       "    .dataframe tbody tr th:only-of-type {\n",
       "        vertical-align: middle;\n",
       "    }\n",
       "\n",
       "    .dataframe tbody tr th {\n",
       "        vertical-align: top;\n",
       "    }\n",
       "\n",
       "    .dataframe thead th {\n",
       "        text-align: right;\n",
       "    }\n",
       "</style>\n",
       "<table border=\"1\" class=\"dataframe\">\n",
       "  <thead>\n",
       "    <tr style=\"text-align: right;\">\n",
       "      <th></th>\n",
       "      <th>a_1</th>\n",
       "      <th>a_2</th>\n",
       "      <th>a_3</th>\n",
       "      <th>a_4</th>\n",
       "      <th>a_5</th>\n",
       "      <th>a_6</th>\n",
       "    </tr>\n",
       "  </thead>\n",
       "  <tbody>\n",
       "    <tr>\n",
       "      <th>75</th>\n",
       "      <td>Rob Boyle</td>\n",
       "      <td>Brian Cross</td>\n",
       "      <td>J.M. Hardy</td>\n",
       "      <td>Olivia Hill</td>\n",
       "      <td>Ken Horner</td>\n",
       "      <td>Others</td>\n",
       "    </tr>\n",
       "    <tr>\n",
       "      <th>84</th>\n",
       "      <td>Richard Pini</td>\n",
       "      <td>Robert Lynn Asprin</td>\n",
       "      <td>Lynn Abbey</td>\n",
       "      <td>Mark C. Perry</td>\n",
       "      <td>C.J. Cherryh</td>\n",
       "      <td>Others</td>\n",
       "    </tr>\n",
       "    <tr>\n",
       "      <th>113</th>\n",
       "      <td>Martin H. Greenberg</td>\n",
       "      <td>Neil Gaiman</td>\n",
       "      <td>George R.R. Martin</td>\n",
       "      <td>Lucius Shepard</td>\n",
       "      <td>Robert Sheckley</td>\n",
       "      <td>Others</td>\n",
       "    </tr>\n",
       "    <tr>\n",
       "      <th>257</th>\n",
       "      <td>T. Pines</td>\n",
       "      <td>D.E. Athkins</td>\n",
       "      <td>Judith Bauer Stamper</td>\n",
       "      <td>R.L. Stine</td>\n",
       "      <td>Ellen Emerson White</td>\n",
       "      <td>Others</td>\n",
       "    </tr>\n",
       "    <tr>\n",
       "      <th>433</th>\n",
       "      <td>Levi Bryant</td>\n",
       "      <td>Nick Srnicek</td>\n",
       "      <td>Martin HÃ¤gglund</td>\n",
       "      <td>Peter Hallward</td>\n",
       "      <td>Graham Harman</td>\n",
       "      <td>Others</td>\n",
       "    </tr>\n",
       "    <tr>\n",
       "      <th>...</th>\n",
       "      <td>...</td>\n",
       "      <td>...</td>\n",
       "      <td>...</td>\n",
       "      <td>...</td>\n",
       "      <td>...</td>\n",
       "      <td>...</td>\n",
       "    </tr>\n",
       "    <tr>\n",
       "      <th>99856</th>\n",
       "      <td>The New Yorker</td>\n",
       "      <td>Haruki Murakami</td>\n",
       "      <td>Calvin Trillin</td>\n",
       "      <td>M.F.K. Fisher</td>\n",
       "      <td>Roald Dahl</td>\n",
       "      <td>Others</td>\n",
       "    </tr>\n",
       "    <tr>\n",
       "      <th>99887</th>\n",
       "      <td>Weldon Burge</td>\n",
       "      <td>Shaun Meeks</td>\n",
       "      <td>Christian A. Larsen</td>\n",
       "      <td>L.L. Soares</td>\n",
       "      <td>Michael Bailey</td>\n",
       "      <td>Others</td>\n",
       "    </tr>\n",
       "    <tr>\n",
       "      <th>99902</th>\n",
       "      <td>Marcio Noguchi</td>\n",
       "      <td>Shuki Kato</td>\n",
       "      <td>Jason Ku</td>\n",
       "      <td>Sebastian Arellano</td>\n",
       "      <td>Won Park</td>\n",
       "      <td>Others</td>\n",
       "    </tr>\n",
       "    <tr>\n",
       "      <th>99929</th>\n",
       "      <td>Will Gompertz</td>\n",
       "      <td>Chloe Aridjis</td>\n",
       "      <td>Lila Azam Zanganeh</td>\n",
       "      <td>Alain de Botton</td>\n",
       "      <td>James Bridle</td>\n",
       "      <td>Others</td>\n",
       "    </tr>\n",
       "    <tr>\n",
       "      <th>99932</th>\n",
       "      <td>Isaac Anderson</td>\n",
       "      <td>Cherril Doty</td>\n",
       "      <td>Samantha Kira Harding</td>\n",
       "      <td>Jennifer McCully</td>\n",
       "      <td>Suzette Rosenthal</td>\n",
       "      <td>Others</td>\n",
       "    </tr>\n",
       "  </tbody>\n",
       "</table>\n",
       "<p>1185 rows × 6 columns</p>\n",
       "</div>"
      ],
      "text/plain": [
       "                       a_1                 a_2                    a_3                 a_4                  a_5     a_6\n",
       "75               Rob Boyle         Brian Cross             J.M. Hardy         Olivia Hill           Ken Horner  Others\n",
       "84            Richard Pini  Robert Lynn Asprin             Lynn Abbey       Mark C. Perry         C.J. Cherryh  Others\n",
       "113    Martin H. Greenberg         Neil Gaiman     George R.R. Martin      Lucius Shepard      Robert Sheckley  Others\n",
       "257               T. Pines        D.E. Athkins   Judith Bauer Stamper          R.L. Stine  Ellen Emerson White  Others\n",
       "433            Levi Bryant        Nick Srnicek       Martin HÃ¤gglund      Peter Hallward        Graham Harman  Others\n",
       "...                    ...                 ...                    ...                 ...                  ...     ...\n",
       "99856       The New Yorker     Haruki Murakami         Calvin Trillin       M.F.K. Fisher           Roald Dahl  Others\n",
       "99887         Weldon Burge         Shaun Meeks    Christian A. Larsen         L.L. Soares       Michael Bailey  Others\n",
       "99902       Marcio Noguchi          Shuki Kato               Jason Ku  Sebastian Arellano             Won Park  Others\n",
       "99929        Will Gompertz       Chloe Aridjis     Lila Azam Zanganeh     Alain de Botton         James Bridle  Others\n",
       "99932       Isaac Anderson        Cherril Doty  Samantha Kira Harding    Jennifer McCully    Suzette Rosenthal  Others\n",
       "\n",
       "[1185 rows x 6 columns]"
      ]
     },
     "execution_count": 31,
     "metadata": {},
     "output_type": "execute_result"
    }
   ],
   "source": [
    "df.loc[df['a_6'].isnull() == False, 'a_1':]"
   ]
  },
  {
   "cell_type": "code",
   "execution_count": 32,
   "id": "0a181cd1-8948-4110-973b-35de35a3ed1b",
   "metadata": {},
   "outputs": [],
   "source": [
    "df_authors = pd.concat([df.groupby('a_1')[['reviews', 'totalratings', 'rating']].agg({'reviews':'sum', 'totalratings': 'sum', 'rating' : 'mean'}),\n",
    "                        df.groupby('a_2')[['reviews', 'totalratings', 'rating']].agg({'reviews':'sum', 'totalratings': 'sum', 'rating' : 'mean'}), \n",
    "                        df.groupby('a_3')[['reviews', 'totalratings', 'rating']].agg({'reviews':'sum', 'totalratings': 'sum', 'rating' : 'mean'}),\n",
    "                        df.groupby('a_4')[['reviews', 'totalratings', 'rating']].agg({'reviews':'sum', 'totalratings': 'sum', 'rating' : 'mean'}),\n",
    "                        df.groupby('a_5')[['reviews', 'totalratings', 'rating']].agg({'reviews':'sum', 'totalratings': 'sum', 'rating' : 'mean'})],\n",
    "                        axis=0).reset_index()"
   ]
  },
  {
   "cell_type": "code",
   "execution_count": 33,
   "id": "815dec65-9224-40bc-b852-f2cac084be86",
   "metadata": {},
   "outputs": [],
   "source": [
    "df_authors.rename(columns={'index':'author'}, inplace=True)"
   ]
  },
  {
   "cell_type": "code",
   "execution_count": 34,
   "id": "b004916e-c741-4f7c-bd74-37748e5df862",
   "metadata": {},
   "outputs": [
    {
     "data": {
      "text/plain": [
       "65344"
      ]
     },
     "execution_count": 34,
     "metadata": {},
     "output_type": "execute_result"
    }
   ],
   "source": [
    "df_authors['author'].nunique()"
   ]
  },
  {
   "cell_type": "markdown",
   "id": "5c8f62d7-c5de-4fa2-a9b5-28ec87ce4dde",
   "metadata": {},
   "source": [
    "**It is seen that the count of authors in the data set has increased.There are also authors with more than 1 book in the data set.**"
   ]
  },
  {
   "cell_type": "code",
   "execution_count": 35,
   "id": "5c9e82af-4ab0-45c9-8c22-df50741cb7c2",
   "metadata": {},
   "outputs": [
    {
     "data": {
      "text/plain": [
       "71853"
      ]
     },
     "execution_count": 35,
     "metadata": {},
     "output_type": "execute_result"
    }
   ],
   "source": [
    "df_authors['author'].shape[0]"
   ]
  },
  {
   "cell_type": "code",
   "execution_count": 36,
   "id": "f2ea9686-7056-4a81-91f1-ea2e6afd6596",
   "metadata": {},
   "outputs": [
    {
     "data": {
      "image/png": "[encoded data removed]",
      "text/plain": [
       "<Figure size 1080x576 with 1 Axes>"
      ]
     },
     "metadata": {
      "needs_background": "light"
     },
     "output_type": "display_data"
    }
   ],
   "source": [
    "plt.figure(figsize=(15, 8))\n",
    "df_author = df_authors.groupby('author')[['reviews']].sum().sort_values(by='reviews', ascending=False).reset_index()[:20]\n",
    "palette = sns.color_palette(\"Greens_r\", 30)\n",
    "ax = plt.barh(df_author['author'] , df_author['reviews'], color=palette)\n",
    "for p in ax.patches:\n",
    "    width = p.get_width()\n",
    "    plt.text(8000+p.get_width(), p.get_y()+0.50*p.get_height(),\n",
    "             '{:d}'.format(width),\n",
    "             ha='center', va='center')\n",
    "plt.gca().invert_yaxis()\n",
    "plt.title('Top 20 Most Reviewed Authors', fontsize=16)\n",
    "plt.show()"
   ]
  },
  {
   "cell_type": "code",
   "execution_count": 37,
   "id": "44405c0a-7a1b-4505-a65c-3f73da226ac3",
   "metadata": {},
   "outputs": [
    {
     "data": {
      "image/png": "[encoded data removed]",
      "text/plain": [
       "<Figure size 1080x576 with 1 Axes>"
      ]
     },
     "metadata": {
      "needs_background": "light"
     },
     "output_type": "display_data"
    }
   ],
   "source": [
    "plt.figure(figsize=(15, 8))\n",
    "most_rated_a = df_authors.groupby('author')[['totalratings']].sum().sort_values(by='totalratings', ascending=False).reset_index()[:20]\n",
    "\n",
    "palette = sns.color_palette('Greens_r', 30)\n",
    "ax = plt.barh(most_rated_a['author'] , most_rated_a['totalratings'], color=palette)\n",
    "for p in ax.patches:\n",
    "    width = p.get_width()\n",
    "    plt.text(220000+p.get_width(), p.get_y()+0.6*p.get_height(),\n",
    "             '{:d}'.format(width),\n",
    "             ha='center', va='center', fontsize=9.5)\n",
    "plt.gca().invert_yaxis()\n",
    "plt.title('Top 20 Most Rated Authors', fontsize=16)\n",
    "plt.show()"
   ]
  },
  {
   "cell_type": "markdown",
   "id": "e2bfa980-7608-40f4-af96-a7b8c23aab53",
   "metadata": {},
   "source": [
    "#### Authors with the highest rating among authors with a total rating count of at least 200k "
   ]
  },
  {
   "cell_type": "code",
   "execution_count": 39,
   "id": "4c1d9f0f-c80f-4654-80b2-00738ece1ff7",
   "metadata": {},
   "outputs": [
    {
     "data": {
      "text/html": [
       "<div>\n",
       "<style scoped>\n",
       "    .dataframe tbody tr th:only-of-type {\n",
       "        vertical-align: middle;\n",
       "    }\n",
       "\n",
       "    .dataframe tbody tr th {\n",
       "        vertical-align: top;\n",
       "    }\n",
       "\n",
       "    .dataframe thead th {\n",
       "        text-align: right;\n",
       "    }\n",
       "</style>\n",
       "<table border=\"1\" class=\"dataframe\">\n",
       "  <thead>\n",
       "    <tr style=\"text-align: right;\">\n",
       "      <th></th>\n",
       "      <th>rating</th>\n",
       "      <th>totalratings</th>\n",
       "    </tr>\n",
       "    <tr>\n",
       "      <th>author</th>\n",
       "      <th></th>\n",
       "      <th></th>\n",
       "    </tr>\n",
       "  </thead>\n",
       "  <tbody>\n",
       "    <tr>\n",
       "      <th>Francine Rivers</th>\n",
       "      <td>4.50</td>\n",
       "      <td>226121</td>\n",
       "    </tr>\n",
       "    <tr>\n",
       "      <th>Hajime Isayama</th>\n",
       "      <td>4.47</td>\n",
       "      <td>240331</td>\n",
       "    </tr>\n",
       "    <tr>\n",
       "      <th>Pookie Rolf</th>\n",
       "      <td>4.45</td>\n",
       "      <td>271605</td>\n",
       "    </tr>\n",
       "    <tr>\n",
       "      <th>Bisco Hatori</th>\n",
       "      <td>4.44</td>\n",
       "      <td>250136</td>\n",
       "    </tr>\n",
       "    <tr>\n",
       "      <th>Toni Morrison</th>\n",
       "      <td>4.44</td>\n",
       "      <td>404851</td>\n",
       "    </tr>\n",
       "    <tr>\n",
       "      <th>R.J. Palacio</th>\n",
       "      <td>4.42</td>\n",
       "      <td>810875</td>\n",
       "    </tr>\n",
       "    <tr>\n",
       "      <th>Madeline Miller</th>\n",
       "      <td>4.40</td>\n",
       "      <td>339638</td>\n",
       "    </tr>\n",
       "    <tr>\n",
       "      <th>Takeshi Obata</th>\n",
       "      <td>4.37</td>\n",
       "      <td>427606</td>\n",
       "    </tr>\n",
       "    <tr>\n",
       "      <th>J.R.R. Tolkien</th>\n",
       "      <td>4.36</td>\n",
       "      <td>407297</td>\n",
       "    </tr>\n",
       "    <tr>\n",
       "      <th>Charlie Adlard</th>\n",
       "      <td>4.34</td>\n",
       "      <td>222860</td>\n",
       "    </tr>\n",
       "  </tbody>\n",
       "</table>\n",
       "</div>"
      ],
      "text/plain": [
       "                 rating  totalratings\n",
       "author                               \n",
       "Francine Rivers    4.50        226121\n",
       "Hajime Isayama     4.47        240331\n",
       "Pookie Rolf        4.45        271605\n",
       "Bisco Hatori       4.44        250136\n",
       "Toni Morrison      4.44        404851\n",
       "R.J. Palacio       4.42        810875\n",
       "Madeline Miller    4.40        339638\n",
       "Takeshi Obata      4.37        427606\n",
       "J.R.R. Tolkien     4.36        407297\n",
       "Charlie Adlard     4.34        222860"
      ]
     },
     "execution_count": 39,
     "metadata": {},
     "output_type": "execute_result"
    }
   ],
   "source": [
    "author_rate = df_authors.groupby('author')[['totalratings']].sum().reset_index()\n",
    "filtered_author = author_rate[author_rate['totalratings'] > 200000].author.values.tolist()\n",
    "\n",
    "df_authors[df_authors['author'].isin(filtered_author)].groupby('author')[['totalratings', 'rating']]. \\\n",
    "                                                     agg({'rating':'mean', 'totalratings':'sum'}).sort_values(by=['rating', 'totalratings'],\n",
    "                                                                                        ascending=[False, False])[:10]"
   ]
  },
  {
   "cell_type": "markdown",
   "id": "9518639d-d0ae-4e5f-84a0-ac2257daa55a",
   "metadata": {},
   "source": [
    "#### Authors with the lowest rating among authors with a total rating count of at least 200k "
   ]
  },
  {
   "cell_type": "code",
   "execution_count": 40,
   "id": "54fa9fed-689a-460b-8495-31d9a566ad03",
   "metadata": {},
   "outputs": [
    {
     "data": {
      "text/html": [
       "<div>\n",
       "<style scoped>\n",
       "    .dataframe tbody tr th:only-of-type {\n",
       "        vertical-align: middle;\n",
       "    }\n",
       "\n",
       "    .dataframe tbody tr th {\n",
       "        vertical-align: top;\n",
       "    }\n",
       "\n",
       "    .dataframe thead th {\n",
       "        text-align: right;\n",
       "    }\n",
       "</style>\n",
       "<table border=\"1\" class=\"dataframe\">\n",
       "  <thead>\n",
       "    <tr style=\"text-align: right;\">\n",
       "      <th></th>\n",
       "      <th>rating</th>\n",
       "      <th>totalratings</th>\n",
       "    </tr>\n",
       "    <tr>\n",
       "      <th>author</th>\n",
       "      <th></th>\n",
       "      <th></th>\n",
       "    </tr>\n",
       "  </thead>\n",
       "  <tbody>\n",
       "    <tr>\n",
       "      <th>Chetan Bhagat</th>\n",
       "      <td>3.08</td>\n",
       "      <td>207299</td>\n",
       "    </tr>\n",
       "    <tr>\n",
       "      <th>Thomas E. Connolly</th>\n",
       "      <td>3.42</td>\n",
       "      <td>733658</td>\n",
       "    </tr>\n",
       "    <tr>\n",
       "      <th>Rockwell Kent</th>\n",
       "      <td>3.51</td>\n",
       "      <td>493984</td>\n",
       "    </tr>\n",
       "    <tr>\n",
       "      <th>John Green</th>\n",
       "      <td>3.52</td>\n",
       "      <td>3828586</td>\n",
       "    </tr>\n",
       "    <tr>\n",
       "      <th>Arthur  Miller</th>\n",
       "      <td>3.53</td>\n",
       "      <td>535252</td>\n",
       "    </tr>\n",
       "    <tr>\n",
       "      <th>Herman Melville</th>\n",
       "      <td>3.53</td>\n",
       "      <td>567104</td>\n",
       "    </tr>\n",
       "    <tr>\n",
       "      <th>Andrew Delbanco</th>\n",
       "      <td>3.54</td>\n",
       "      <td>494615</td>\n",
       "    </tr>\n",
       "    <tr>\n",
       "      <th>Christopher Bigsby</th>\n",
       "      <td>3.59</td>\n",
       "      <td>338877</td>\n",
       "    </tr>\n",
       "    <tr>\n",
       "      <th>Paulo Coelho</th>\n",
       "      <td>3.61</td>\n",
       "      <td>698488</td>\n",
       "    </tr>\n",
       "    <tr>\n",
       "      <th>Jennifer Weiner</th>\n",
       "      <td>3.63</td>\n",
       "      <td>614656</td>\n",
       "    </tr>\n",
       "  </tbody>\n",
       "</table>\n",
       "</div>"
      ],
      "text/plain": [
       "                    rating  totalratings\n",
       "author                                  \n",
       "Chetan Bhagat         3.08        207299\n",
       "Thomas E. Connolly    3.42        733658\n",
       "Rockwell Kent         3.51        493984\n",
       "John Green            3.52       3828586\n",
       "Arthur  Miller        3.53        535252\n",
       "Herman Melville       3.53        567104\n",
       "Andrew Delbanco       3.54        494615\n",
       "Christopher Bigsby    3.59        338877\n",
       "Paulo Coelho          3.61        698488\n",
       "Jennifer Weiner       3.63        614656"
      ]
     },
     "execution_count": 40,
     "metadata": {},
     "output_type": "execute_result"
    }
   ],
   "source": [
    "df_authors[df_authors['author'].isin(filtered_author)].groupby('author')[['totalratings', 'rating']]. \\\n",
    "                                                     agg({'rating':'mean', 'totalratings':'sum'}).sort_values(by=['rating', 'totalratings'],\n",
    "                                                                                        ascending=[True, False])[:10]"
   ]
  },
  {
   "cell_type": "markdown",
   "id": "ca7ce3d9-2248-4f21-99bb-5cfabf6fec46",
   "metadata": {},
   "source": [
    "# Content Based Recommendation"
   ]
  },
  {
   "cell_type": "code",
   "execution_count": 41,
   "id": "6e790300-a70f-48da-a7ea-1e909407f802",
   "metadata": {},
   "outputs": [],
   "source": [
    "random_books = pd.Series(df['title']).sample(40000, random_state=7).values.tolist()\n",
    "random_books_df = df[df['title'].isin(random_books)].reset_index(drop=True)"
   ]
  },
  {
   "cell_type": "code",
   "execution_count": 42,
   "id": "f0779b81-1369-4512-a2b4-11a52e942430",
   "metadata": {},
   "outputs": [
    {
     "data": {
      "text/html": [
       "<div>\n",
       "<style scoped>\n",
       "    .dataframe tbody tr th:only-of-type {\n",
       "        vertical-align: middle;\n",
       "    }\n",
       "\n",
       "    .dataframe tbody tr th {\n",
       "        vertical-align: top;\n",
       "    }\n",
       "\n",
       "    .dataframe thead th {\n",
       "        text-align: right;\n",
       "    }\n",
       "</style>\n",
       "<table border=\"1\" class=\"dataframe\">\n",
       "  <thead>\n",
       "    <tr style=\"text-align: right;\">\n",
       "      <th></th>\n",
       "      <th>author</th>\n",
       "      <th>bookformat</th>\n",
       "      <th>desc</th>\n",
       "      <th>genre</th>\n",
       "      <th>pages</th>\n",
       "      <th>rating</th>\n",
       "      <th>reviews</th>\n",
       "      <th>title</th>\n",
       "      <th>totalratings</th>\n",
       "      <th>a_1</th>\n",
       "      <th>a_2</th>\n",
       "      <th>a_3</th>\n",
       "      <th>a_4</th>\n",
       "      <th>a_5</th>\n",
       "      <th>a_6</th>\n",
       "    </tr>\n",
       "  </thead>\n",
       "  <tbody>\n",
       "    <tr>\n",
       "      <th>0</th>\n",
       "      <td>Andy Anderson</td>\n",
       "      <td>Paperback</td>\n",
       "      <td>The seminal history and analysis of the Hungar...</td>\n",
       "      <td>politics history</td>\n",
       "      <td>124</td>\n",
       "      <td>4.15</td>\n",
       "      <td>2</td>\n",
       "      <td>Hungary 56</td>\n",
       "      <td>26</td>\n",
       "      <td>Andy Anderson</td>\n",
       "      <td>None</td>\n",
       "      <td>None</td>\n",
       "      <td>None</td>\n",
       "      <td>None</td>\n",
       "      <td>None</td>\n",
       "    </tr>\n",
       "    <tr>\n",
       "      <th>1</th>\n",
       "      <td>Carlotta R. Anderson</td>\n",
       "      <td>Hardcover</td>\n",
       "      <td>\"All-American Anarchist\" chronicles the life a...</td>\n",
       "      <td>labor history</td>\n",
       "      <td>324</td>\n",
       "      <td>3.83</td>\n",
       "      <td>1</td>\n",
       "      <td>All-American Anarchist: Joseph A. Labadie and ...</td>\n",
       "      <td>6</td>\n",
       "      <td>Carlotta R. Anderson</td>\n",
       "      <td>None</td>\n",
       "      <td>None</td>\n",
       "      <td>None</td>\n",
       "      <td>None</td>\n",
       "      <td>None</td>\n",
       "    </tr>\n",
       "    <tr>\n",
       "      <th>2</th>\n",
       "      <td>Jeffrey Pfeffer</td>\n",
       "      <td>Hardcover</td>\n",
       "      <td>Why is common sense so uncommon when it comes ...</td>\n",
       "      <td>business leadership romance historical romance...</td>\n",
       "      <td>368</td>\n",
       "      <td>3.73</td>\n",
       "      <td>7</td>\n",
       "      <td>The Human Equation: Building Profits by Puttin...</td>\n",
       "      <td>119</td>\n",
       "      <td>Jeffrey Pfeffer</td>\n",
       "      <td>None</td>\n",
       "      <td>None</td>\n",
       "      <td>None</td>\n",
       "      <td>None</td>\n",
       "      <td>None</td>\n",
       "    </tr>\n",
       "    <tr>\n",
       "      <th>3</th>\n",
       "      <td>Jeffrey Pfeffer</td>\n",
       "      <td>Paperback</td>\n",
       "      <td>\"Competitive Advantage Through People\" explore...</td>\n",
       "      <td>business leadership business management romanc...</td>\n",
       "      <td>304</td>\n",
       "      <td>3.65</td>\n",
       "      <td>1</td>\n",
       "      <td>Competitive Advantage Through People: Unleashi...</td>\n",
       "      <td>20</td>\n",
       "      <td>Jeffrey Pfeffer</td>\n",
       "      <td>None</td>\n",
       "      <td>None</td>\n",
       "      <td>None</td>\n",
       "      <td>None</td>\n",
       "      <td>None</td>\n",
       "    </tr>\n",
       "    <tr>\n",
       "      <th>4</th>\n",
       "      <td>Edward Joesting</td>\n",
       "      <td>Paperback</td>\n",
       "      <td>\"Even if you know Hawaiian history you will fi...</td>\n",
       "      <td>history nonfiction</td>\n",
       "      <td>353</td>\n",
       "      <td>3.93</td>\n",
       "      <td>2</td>\n",
       "      <td>Hawaii: An Uncommon History</td>\n",
       "      <td>15</td>\n",
       "      <td>Edward Joesting</td>\n",
       "      <td>None</td>\n",
       "      <td>None</td>\n",
       "      <td>None</td>\n",
       "      <td>None</td>\n",
       "      <td>None</td>\n",
       "    </tr>\n",
       "    <tr>\n",
       "      <th>...</th>\n",
       "      <td>...</td>\n",
       "      <td>...</td>\n",
       "      <td>...</td>\n",
       "      <td>...</td>\n",
       "      <td>...</td>\n",
       "      <td>...</td>\n",
       "      <td>...</td>\n",
       "      <td>...</td>\n",
       "      <td>...</td>\n",
       "      <td>...</td>\n",
       "      <td>...</td>\n",
       "      <td>...</td>\n",
       "      <td>...</td>\n",
       "      <td>...</td>\n",
       "      <td>...</td>\n",
       "    </tr>\n",
       "    <tr>\n",
       "      <th>40998</th>\n",
       "      <td>Leonard Verduin</td>\n",
       "      <td>Paperback</td>\n",
       "      <td>The Reformers and Their Stepchildren is a bril...</td>\n",
       "      <td>history church church history religion theolog...</td>\n",
       "      <td>292</td>\n",
       "      <td>4.06</td>\n",
       "      <td>26</td>\n",
       "      <td>The Reformers and Their Stepchildren</td>\n",
       "      <td>135</td>\n",
       "      <td>Leonard Verduin</td>\n",
       "      <td>None</td>\n",
       "      <td>None</td>\n",
       "      <td>None</td>\n",
       "      <td>None</td>\n",
       "      <td>None</td>\n",
       "    </tr>\n",
       "    <tr>\n",
       "      <th>40999</th>\n",
       "      <td>John Lescroart</td>\n",
       "      <td>Paperback</td>\n",
       "      <td>\"People\" magazine crowns him \"a master.\" \"The ...</td>\n",
       "      <td>mystery fiction thriller legal thriller thrill...</td>\n",
       "      <td>468</td>\n",
       "      <td>4.03</td>\n",
       "      <td>156</td>\n",
       "      <td>The Oath</td>\n",
       "      <td>3413</td>\n",
       "      <td>John Lescroart</td>\n",
       "      <td>None</td>\n",
       "      <td>None</td>\n",
       "      <td>None</td>\n",
       "      <td>None</td>\n",
       "      <td>None</td>\n",
       "    </tr>\n",
       "    <tr>\n",
       "      <th>41000</th>\n",
       "      <td>Philip Hoare</td>\n",
       "      <td>Paperback</td>\n",
       "      <td>A startling new book, his most personal to dat...</td>\n",
       "      <td>nonfiction environment nature travel science a...</td>\n",
       "      <td>350</td>\n",
       "      <td>3.77</td>\n",
       "      <td>74</td>\n",
       "      <td>The Sea Inside</td>\n",
       "      <td>497</td>\n",
       "      <td>Philip Hoare</td>\n",
       "      <td>None</td>\n",
       "      <td>None</td>\n",
       "      <td>None</td>\n",
       "      <td>None</td>\n",
       "      <td>None</td>\n",
       "    </tr>\n",
       "    <tr>\n",
       "      <th>41001</th>\n",
       "      <td>Sarah Lean</td>\n",
       "      <td>Paperback</td>\n",
       "      <td>Sometimes when things are broken you can't fix...</td>\n",
       "      <td>animals childrens middle grade animals horses ...</td>\n",
       "      <td>288</td>\n",
       "      <td>3.97</td>\n",
       "      <td>94</td>\n",
       "      <td>A Horse for Angel</td>\n",
       "      <td>535</td>\n",
       "      <td>Sarah Lean</td>\n",
       "      <td>None</td>\n",
       "      <td>None</td>\n",
       "      <td>None</td>\n",
       "      <td>None</td>\n",
       "      <td>None</td>\n",
       "    </tr>\n",
       "    <tr>\n",
       "      <th>41002</th>\n",
       "      <td>Marc E. Fitch</td>\n",
       "      <td>ebook</td>\n",
       "      <td>Did you know that interest in UFO research inc...</td>\n",
       "      <td>fantasy paranormal nonfiction</td>\n",
       "      <td>398</td>\n",
       "      <td>3.83</td>\n",
       "      <td>3</td>\n",
       "      <td>Paranormal Nation: Why America Needs Ghosts, U...</td>\n",
       "      <td>12</td>\n",
       "      <td>Marc E. Fitch</td>\n",
       "      <td>None</td>\n",
       "      <td>None</td>\n",
       "      <td>None</td>\n",
       "      <td>None</td>\n",
       "      <td>None</td>\n",
       "    </tr>\n",
       "  </tbody>\n",
       "</table>\n",
       "<p>41003 rows × 15 columns</p>\n",
       "</div>"
      ],
      "text/plain": [
       "                     author bookformat                                               desc                                              genre  pages  rating  reviews  \\\n",
       "0             Andy Anderson  Paperback  The seminal history and analysis of the Hungar...                                   politics history    124    4.15        2   \n",
       "1      Carlotta R. Anderson  Hardcover  \"All-American Anarchist\" chronicles the life a...                                      labor history    324    3.83        1   \n",
       "2           Jeffrey Pfeffer  Hardcover  Why is common sense so uncommon when it comes ...  business leadership romance historical romance...    368    3.73        7   \n",
       "3           Jeffrey Pfeffer  Paperback  \"Competitive Advantage Through People\" explore...  business leadership business management romanc...    304    3.65        1   \n",
       "4           Edward Joesting  Paperback  \"Even if you know Hawaiian history you will fi...                                 history nonfiction    353    3.93        2   \n",
       "...                     ...        ...                                                ...                                                ...    ...     ...      ...   \n",
       "40998       Leonard Verduin  Paperback  The Reformers and Their Stepchildren is a bril...  history church church history religion theolog...    292    4.06       26   \n",
       "40999        John Lescroart  Paperback  \"People\" magazine crowns him \"a master.\" \"The ...  mystery fiction thriller legal thriller thrill...    468    4.03      156   \n",
       "41000          Philip Hoare  Paperback  A startling new book, his most personal to dat...  nonfiction environment nature travel science a...    350    3.77       74   \n",
       "41001            Sarah Lean  Paperback  Sometimes when things are broken you can't fix...  animals childrens middle grade animals horses ...    288    3.97       94   \n",
       "41002         Marc E. Fitch      ebook  Did you know that interest in UFO research inc...                      fantasy paranormal nonfiction    398    3.83        3   \n",
       "\n",
       "                                                   title  totalratings                   a_1   a_2   a_3   a_4   a_5   a_6  \n",
       "0                                             Hungary 56            26         Andy Anderson  None  None  None  None  None  \n",
       "1      All-American Anarchist: Joseph A. Labadie and ...             6  Carlotta R. Anderson  None  None  None  None  None  \n",
       "2      The Human Equation: Building Profits by Puttin...           119       Jeffrey Pfeffer  None  None  None  None  None  \n",
       "3      Competitive Advantage Through People: Unleashi...            20       Jeffrey Pfeffer  None  None  None  None  None  \n",
       "4                            Hawaii: An Uncommon History            15       Edward Joesting  None  None  None  None  None  \n",
       "...                                                  ...           ...                   ...   ...   ...   ...   ...   ...  \n",
       "40998               The Reformers and Their Stepchildren           135       Leonard Verduin  None  None  None  None  None  \n",
       "40999                                           The Oath          3413        John Lescroart  None  None  None  None  None  \n",
       "41000                                     The Sea Inside           497          Philip Hoare  None  None  None  None  None  \n",
       "41001                                  A Horse for Angel           535            Sarah Lean  None  None  None  None  None  \n",
       "41002  Paranormal Nation: Why America Needs Ghosts, U...            12         Marc E. Fitch  None  None  None  None  None  \n",
       "\n",
       "[41003 rows x 15 columns]"
      ]
     },
     "execution_count": 42,
     "metadata": {},
     "output_type": "execute_result"
    }
   ],
   "source": [
    "random_books_df"
   ]
  },
  {
   "cell_type": "code",
   "execution_count": 43,
   "id": "318b1d5e-2bc1-4088-8887-d5c7df00a821",
   "metadata": {},
   "outputs": [
    {
     "data": {
      "text/plain": [
       "False"
      ]
     },
     "execution_count": 43,
     "metadata": {},
     "output_type": "execute_result"
    }
   ],
   "source": [
    "random_books_df['desc'].isnull().any()"
   ]
  },
  {
   "cell_type": "code",
   "execution_count": 44,
   "id": "a64b4280-7c34-4606-ad62-8251d3d2e79f",
   "metadata": {},
   "outputs": [
    {
     "data": {
      "text/plain": [
       "\"Marion Weinstein was one of the first witches to release a Book of Shadows to the public. Here is the revised and updated version of Earth Magic, the author's personal book of magical practice, made available for today's Witches. Based on an indepth study of the many facets of Witchcraft, Earth Magic presents the religion as positive and life-affirming.The book is filled with how-to's of a practical nature, as is traditional in Witchcraft. It is intended to be a springboard, to unlock the reader's psychic Wiccan abilities and guide them into the creation of their own unique and personal work. Every technique is explained in detail, in keeping with Weinstein's proviso that one should never attempt to work any magic unless one understands it fully. The goal is to encourage true Witchcraft expertise and creativity.,The information from the original edition is still available, as well as a treasure trove of new material, some of which has never been seen before. In this thoroughly revised edition, you will learn: ,-- How to set up psychic protection.,-- How to work string and cord magic.,-- Working with the phases of the Moon.,-- Forming and working with your own coven.,-- Visualization in a Witch's mode.,-- Choices of Deity alignments from a wide realm of cultures.,-- Not one, but two methods of Manifestation: Creation Manifestation and Affinity Manifestation.,-- Creating rituals, creating Words of Power, composing one's own spells, use of talismans, candles, pendulums, Witch's Bottles, scrying, oracles, and much more.\""
      ]
     },
     "execution_count": 44,
     "metadata": {},
     "output_type": "execute_result"
    }
   ],
   "source": [
    "random_books_df['desc'][12]"
   ]
  },
  {
   "cell_type": "code",
   "execution_count": 45,
   "id": "3687a9fa-5cd5-41f2-ba01-f5189c6e73ef",
   "metadata": {},
   "outputs": [],
   "source": [
    "lemmatizer = WordNetLemmatizer()\n",
    "stop_words = set(stopwords.words('english'))\n",
    "VERB_CODES = {'VB', 'VBD', 'VBG', 'VBN', 'VBP', 'VBZ'}"
   ]
  },
  {
   "cell_type": "markdown",
   "id": "0b24732c-4b4c-42fe-9fbc-e702a534089d",
   "metadata": {},
   "source": [
    "#### Applying natural language processing techniques to pre-process the text"
   ]
  },
  {
   "cell_type": "code",
   "execution_count": 46,
   "id": "cb320a52-b365-4f57-a6b0-1da7e1146873",
   "metadata": {},
   "outputs": [],
   "source": [
    "def preprocess_sentences(text):\n",
    "    text = text.lower()\n",
    "    temp_sent =[]\n",
    "    words = nltk.word_tokenize(text)\n",
    "    tags = nltk.pos_tag(words)\n",
    "    for i, word in enumerate(words):\n",
    "        if tags[i][1] in VERB_CODES: \n",
    "            lemmatized = lemmatizer.lemmatize(word, 'v')\n",
    "        else:\n",
    "            lemmatized = lemmatizer.lemmatize(word)\n",
    "        if lemmatized not in stop_words and lemmatized.isalpha():\n",
    "            temp_sent.append(lemmatized)\n",
    "          \n",
    "    finalsent = ' '.join(temp_sent)\n",
    "    return finalsent"
   ]
  },
  {
   "cell_type": "markdown",
   "id": "0e30c7ba-2f6c-4d33-9f8f-8502d1b54e17",
   "metadata": {},
   "source": [
    "**Note** \n",
    "*By using the isalpha function, we specify that we want to use only string characters. It is not a definite truth and it is only based on interpretation. We can also keep numeric characters in the text."
   ]
  },
  {
   "cell_type": "markdown",
   "id": "a40e3de2-06ca-46ad-b711-d5f8211993a2",
   "metadata": {},
   "source": [
    "- Plot summary is converted into tokens, Using NLTK word tokenizer.\n",
    "- Using NLTK POS tagger, POS tags of tokens are extracted.\n",
    "- Lemmatization is done by removing inflectional endings of tokens, through NLTK Word-net lemmatizer.\n",
    "- Common words are removed to increase the importance of tokens. From NLTK library, English stop words are downloaded and removed from the text."
   ]
  },
  {
   "cell_type": "code",
   "execution_count": 47,
   "id": "0db3901a-27ca-486e-a909-8b4bcc67144a",
   "metadata": {},
   "outputs": [],
   "source": [
    "random_books_df['desc'] = random_books_df['desc'].apply(preprocess_sentences)"
   ]
  },
  {
   "cell_type": "code",
   "execution_count": 48,
   "id": "0445eb5d-b116-43c8-b858-aa9d96d0ebc3",
   "metadata": {},
   "outputs": [
    {
     "data": {
      "text/plain": [
       "'marion weinstein one first witch release book shadow public revised updated version earth magic author personal book magical practice make available today witch base indepth study many facet witchcraft earth magic present religion positive book fill practical nature traditional witchcraft intend springboard unlock reader psychic wiccan ability guide creation unique personal work every technique explain detail keep weinstein proviso one never attempt work magic unless one understand fully goal encourage true witchcraft expertise information original edition still available well treasure trove new material never see thoroughly revise edition learn set psychic work string cord work phase forming work visualization witch choice deity alignment wide realm one two method manifestation creation manifestation affinity create ritual create word power compose one spell use talisman candle pendulum witch bottle scry oracle much'"
      ]
     },
     "execution_count": 48,
     "metadata": {},
     "output_type": "execute_result"
    }
   ],
   "source": [
    "random_books_df['desc'][12]"
   ]
  },
  {
   "cell_type": "markdown",
   "id": "76aa3d76-6728-4b48-bbe8-cb58e09d1022",
   "metadata": {},
   "source": [
    "**Some changes**\n",
    "- Book >> book \n",
    "- Shadows >> shadow \n",
    "- author's >> author\n",
    "- Creating >> create"
   ]
  },
  {
   "cell_type": "code",
   "execution_count": 49,
   "id": "a4fea09e-5974-4449-8780-032b42735c07",
   "metadata": {},
   "outputs": [],
   "source": [
    "tfidf = TfidfVectorizer()\n",
    "tfidf_matrix = tfidf.fit_transform(random_books_df['desc'])"
   ]
  },
  {
   "cell_type": "code",
   "execution_count": 50,
   "id": "572f9913-a06b-4c40-a66a-bc0f2d635262",
   "metadata": {},
   "outputs": [
    {
     "data": {
      "text/plain": [
       "(41003, 143424)"
      ]
     },
     "execution_count": 50,
     "metadata": {},
     "output_type": "execute_result"
    }
   ],
   "source": [
    "tfidf_matrix.shape"
   ]
  },
  {
   "cell_type": "code",
   "execution_count": 51,
   "id": "ff4c8ebc-ae0e-4a5d-8857-a99df1076b14",
   "metadata": {},
   "outputs": [
    {
     "data": {
      "text/plain": [
       "array([[0., 0., 0., ..., 0., 0., 0.],\n",
       "       [0., 0., 0., ..., 0., 0., 0.],\n",
       "       [0., 0., 0., ..., 0., 0., 0.],\n",
       "       ...,\n",
       "       [0., 0., 0., ..., 0., 0., 0.],\n",
       "       [0., 0., 0., ..., 0., 0., 0.],\n",
       "       [0., 0., 0., ..., 0., 0., 0.]])"
      ]
     },
     "execution_count": 51,
     "metadata": {},
     "output_type": "execute_result"
    }
   ],
   "source": [
    "tfidf_matrix.toarray()"
   ]
  },
  {
   "cell_type": "code",
   "execution_count": 52,
   "id": "043f3b77-a6a1-47df-aa7b-fdafac79b25a",
   "metadata": {},
   "outputs": [],
   "source": [
    "cosine_sim = cosine_similarity(tfidf_matrix,\n",
    "                               tfidf_matrix)"
   ]
  },
  {
   "cell_type": "code",
   "execution_count": 53,
   "id": "c3006c60-4f7f-4d0a-af0a-cef4284f0bb4",
   "metadata": {},
   "outputs": [
    {
     "data": {
      "text/plain": [
       "(41003, 41003)"
      ]
     },
     "execution_count": 53,
     "metadata": {},
     "output_type": "execute_result"
    }
   ],
   "source": [
    "cosine_sim.shape"
   ]
  },
  {
   "cell_type": "code",
   "execution_count": 54,
   "id": "613aa74e-0b48-45e3-bf3b-ae35a27532c5",
   "metadata": {},
   "outputs": [],
   "source": [
    "indices = pd.Series(random_books_df.index, index=random_books_df['title'])"
   ]
  },
  {
   "cell_type": "code",
   "execution_count": 55,
   "id": "fbaaee8d-4b1a-4bd4-be66-7c38c26745dc",
   "metadata": {},
   "outputs": [],
   "source": [
    "indices = indices[~indices.index.duplicated(keep='last')]"
   ]
  },
  {
   "cell_type": "code",
   "execution_count": 56,
   "id": "d9168a05-5a1d-4b2e-bdbf-e41fe31db287",
   "metadata": {},
   "outputs": [],
   "source": [
    "def check_book(keyword):\n",
    "    return [title for title in random_books_df.title if keyword in title]"
   ]
  },
  {
   "cell_type": "markdown",
   "id": "2b225f9f-da33-4e82-aed2-d57693cfab90",
   "metadata": {},
   "source": [
    "### 1- Recommendations For The Title 'The Lord of the Rings: The Two Towers: Visual Companion'"
   ]
  },
  {
   "cell_type": "code",
   "execution_count": 57,
   "id": "94bef505-f60f-49aa-92b4-d29c4d498455",
   "metadata": {},
   "outputs": [
    {
     "data": {
      "text/plain": [
       "['Ten Rings: My Championship Seasons',\n",
       " 'Physics on the Fringe: Smoke Rings, Circlons, and Alternative Theories of Everything',\n",
       " \"Witches' Rings\",\n",
       " 'The Rings of Time',\n",
       " 'The Lord of the Rings: The Art of the Fellowship of the Ring',\n",
       " 'Origami Wreaths and Rings',\n",
       " 'Legend of the Five Rings RPG',\n",
       " 'Two Rings: A Story of Love and War',\n",
       " 'The Rings of Haven',\n",
       " 'The Rings of Saturn',\n",
       " 'The Lord of the Rings: The Two Towers: Visual Companion',\n",
       " 'The Lord of the Rings: The Fellowship of the Ring: Visual Companion',\n",
       " 'The Lord of the Rings: Official Movie Guide',\n",
       " 'The Magical Worlds of Lord of the Rings: The Amazing Myths, Legends and Facts Behind the Masterpiece',\n",
       " \"Tolkien's Ordinary Virtues: Exploring the Spiritual Themes of the Lord of the Rings\",\n",
       " 'Keeper of the Rings',\n",
       " 'The Return of the Shadow: The History of The Lord of the Rings, Part One',\n",
       " \"Musashi's Book of Five Rings: The Definitive Interpertation of Miyomoto Musashi's Classic Book of Strategy\"]"
      ]
     },
     "execution_count": 57,
     "metadata": {},
     "output_type": "execute_result"
    }
   ],
   "source": [
    "check_book('Rings')[:20]"
   ]
  },
  {
   "cell_type": "code",
   "execution_count": 58,
   "id": "cd668edc-f9a4-4bd5-898d-88bf33c6c320",
   "metadata": {},
   "outputs": [],
   "source": [
    "book_index = indices['The Lord of the Rings: The Two Towers: Visual Companion']"
   ]
  },
  {
   "cell_type": "code",
   "execution_count": 59,
   "id": "9506a2e7-ad7f-4cd9-b7f1-7c22765c5379",
   "metadata": {},
   "outputs": [],
   "source": [
    "similarity_scores = pd.DataFrame(cosine_sim[book_index],\n",
    "                                 columns=['score'])\n",
    "\n",
    "book_indices = similarity_scores.sort_values('score', ascending=False)[1:11].index"
   ]
  },
  {
   "cell_type": "markdown",
   "id": "fa5dfe26-fb15-4af9-ba4f-86e07371f5b3",
   "metadata": {},
   "source": [
    "**10 similar titles with The Lord of the Rings: The Two Towers: Visual Companion**"
   ]
  },
  {
   "cell_type": "code",
   "execution_count": 60,
   "id": "a5843857-3946-4ec2-9328-7511c1c7ac71",
   "metadata": {},
   "outputs": [
    {
     "data": {
      "text/plain": [
       "['The Lord of the Rings: The Fellowship of the Ring: Visual Companion',\n",
       " 'The Return of the Shadow: The History of The Lord of the Rings, Part One',\n",
       " 'The Lord of the Rings: The Art of the Fellowship of the Ring',\n",
       " 'Catnap',\n",
       " 'Gollum: How We Made Movie Magic',\n",
       " 'The Magical Worlds of Lord of the Rings: The Amazing Myths, Legends and Facts Behind the Masterpiece',\n",
       " \"The Hobbit and Philosophy: For When You've Lost Your Dwarves, Your Wizard, and Your Way\",\n",
       " 'The Art of The Hobbit by J.R.R. Tolkien',\n",
       " 'The Lord of the Rings: Official Movie Guide',\n",
       " 'Introduction to Ring Theory']"
      ]
     },
     "execution_count": 60,
     "metadata": {},
     "output_type": "execute_result"
    }
   ],
   "source": [
    "random_books_df['title'].iloc[book_indices].tolist()"
   ]
  },
  {
   "cell_type": "markdown",
   "id": "6d5bb8ed-d810-4259-a043-18e9543e25ce",
   "metadata": {},
   "source": [
    "### 2- Recommendations For The Title 'Star Trek and History'"
   ]
  },
  {
   "cell_type": "code",
   "execution_count": 61,
   "id": "b46e6a97-2a4a-43b7-aae0-bd304f5ca3c9",
   "metadata": {},
   "outputs": [
    {
     "data": {
      "text/plain": [
       "[\"Star Trek: Captain's Log\",\n",
       " 'Beyond Star Trek: From Alien Invasions to the End of Time',\n",
       " \"Star Wars vs. Star Trek: Could the Empire kick the Federation's ass? And other galaxy-shaking enigmas\",\n",
       " 'Computers Of Star Trek',\n",
       " 'Star Trek: The Next Generation - The Gorn Crisis',\n",
       " 'Star Trek: Deep Space Nine Technical Manual',\n",
       " 'Star Trek IV: The Voyage Home',\n",
       " 'The Meaning of Star Trek',\n",
       " 'Star Trek: the manga Volume 2: Kakan ni Shinkou',\n",
       " 'The Best of Trek: From the Magazine for Star Trek Fans',\n",
       " 'Inside Star Trek: The Real Story',\n",
       " 'Star Trek Vault: 40 Years from the Archives',\n",
       " 'Star Trek Book of Opposites',\n",
       " 'Star Trek: The Motion Picture : The Photostory',\n",
       " 'Klingon: Star Trek',\n",
       " \"Chekov's Enterprise: A Personal Journal of the Making of Star Trek, the Motion Picture\",\n",
       " 'The Star Trek Encyclopedia',\n",
       " 'A Brief Guide to Star Trek',\n",
       " 'Star Trek: Strange New Worlds V',\n",
       " 'Star Trek Puzzle Manual']"
      ]
     },
     "execution_count": 61,
     "metadata": {},
     "output_type": "execute_result"
    }
   ],
   "source": [
    "check_book('Star Trek')[:20]"
   ]
  },
  {
   "cell_type": "code",
   "execution_count": 62,
   "id": "da5383bb-1f14-423a-a596-fc872008f7a7",
   "metadata": {},
   "outputs": [],
   "source": [
    "book_index = indices[\"Star Trek and History\"]\n",
    "\n",
    "similarity_scores = pd.DataFrame(cosine_sim[book_index],\n",
    "                                 columns=['score'])\n",
    "\n",
    "book_indices = similarity_scores.sort_values('score', ascending=False)[1:11].index"
   ]
  },
  {
   "cell_type": "markdown",
   "id": "aa81ba05-f806-4bc6-a317-d5359df16250",
   "metadata": {},
   "source": [
    "**10 similar titles with Star Trek and History**"
   ]
  },
  {
   "cell_type": "code",
   "execution_count": 63,
   "id": "a2334719-8fec-4fd3-a366-c56105f2d534",
   "metadata": {},
   "outputs": [
    {
     "data": {
      "text/plain": [
       "['Star Trek: Strange New Worlds V',\n",
       " 'Star Trek FAQ: Everything Left to Know about the First Voyages of the Starship Enterprise Unofficial and Unauthorized',\n",
       " 'Where No One Has Gone Before: A History in Pictures (Star Trek: All)',\n",
       " 'All I Really Need to Know I Learned from Watching Star Trek',\n",
       " 'Star Trek Vault: 40 Years from the Archives',\n",
       " 'Countdown to Darkness',\n",
       " 'Star Trek Classic Quotes: The Next Generation',\n",
       " 'Star Trek: The Next Generation 365',\n",
       " 'The Star Trek Reader I',\n",
       " 'Computers Of Star Trek']"
      ]
     },
     "execution_count": 63,
     "metadata": {},
     "output_type": "execute_result"
    }
   ],
   "source": [
    "random_books_df['title'].iloc[book_indices].tolist()"
   ]
  },
  {
   "cell_type": "code",
   "execution_count": 64,
   "id": "f93f920b-9e85-47ac-b08b-f9297512a31b",
   "metadata": {},
   "outputs": [
    {
     "data": {
      "text/plain": [
       "[]"
      ]
     },
     "execution_count": 64,
     "metadata": {},
     "output_type": "execute_result"
    }
   ],
   "source": [
    "check_book('Dorian Gray')[:20]"
   ]
  },
  {
   "cell_type": "code",
   "execution_count": 65,
   "id": "13e48d73-8dc7-4df9-85b7-1d9a8ac3c57d",
   "metadata": {},
   "outputs": [
    {
     "data": {
      "text/plain": [
       "[]"
      ]
     },
     "execution_count": 65,
     "metadata": {},
     "output_type": "execute_result"
    }
   ],
   "source": [
    "check_book('When Nietsche Nept')[:20]"
   ]
  },
  {
   "cell_type": "markdown",
   "id": "e1eba829-48fc-4cac-84e6-cf0f9783d3cf",
   "metadata": {},
   "source": [
    "**:(**  I just wanted to search for my favorite books, but the dataset does not include the books."
   ]
  },
  {
   "cell_type": "markdown",
   "id": "31e5d91f-f45f-4290-834f-2a954fd7be00",
   "metadata": {},
   "source": [
    "### 3-Recommendations For The Title 'Batman: Gotham Nights #1'"
   ]
  },
  {
   "cell_type": "code",
   "execution_count": 66,
   "id": "93c347df-dc4c-4786-b530-fa243b2d0962",
   "metadata": {},
   "outputs": [
    {
     "data": {
      "text/plain": [
       "['Batman: Impostors',\n",
       " 'Batman: Knight and Squire',\n",
       " 'Batman: Dark Knight of the Round Table Vol. 1',\n",
       " 'Batman: Gotham Noir',\n",
       " 'Batman: Gotham Nights #1',\n",
       " 'Batman: Year 100',\n",
       " \"Year One: Batman/Ra's al Ghul\",\n",
       " 'Batman: Bruce Wayne, Murderer?',\n",
       " 'Batman: Bruce Wayne, Fugitive, Vol. 1',\n",
       " 'Batman: The Long Halloween',\n",
       " 'Batman: Dark Victory',\n",
       " 'Batman: Haunted Knight',\n",
       " 'Batman: Man-Bat',\n",
       " 'Batman: Secrets',\n",
       " 'Batman: Knightfall, Part Two: Who Rules the Night',\n",
       " 'Batman: Hush, Vol. 2',\n",
       " 'Superman/Batman, Vol. 2: Supergirl',\n",
       " 'Superman/Batman, Vol. 4: Vengeance',\n",
       " 'The Batman Handbook',\n",
       " 'Batman: War Crimes']"
      ]
     },
     "execution_count": 66,
     "metadata": {},
     "output_type": "execute_result"
    }
   ],
   "source": [
    "check_book('Batman')[:20]"
   ]
  },
  {
   "cell_type": "code",
   "execution_count": 67,
   "id": "91a23afc-2770-402b-aa0c-31f315633d3e",
   "metadata": {},
   "outputs": [],
   "source": [
    "book_index = indices['Batman: Gotham Nights #1']\n",
    "\n",
    "similarity_scores = pd.DataFrame(cosine_sim[book_index],\n",
    "                                 columns=['score'])\n",
    "\n",
    "book_indices = similarity_scores.sort_values('score', ascending=False)[1:11].index"
   ]
  },
  {
   "cell_type": "markdown",
   "id": "9ff16428-7c26-4b71-8da6-36d2328a623f",
   "metadata": {},
   "source": [
    "**10 similar titles with Batman: Gotham Nights #1**"
   ]
  },
  {
   "cell_type": "code",
   "execution_count": 68,
   "id": "6ccd0645-f65a-45e8-9345-b557c7ac3fc3",
   "metadata": {},
   "outputs": [
    {
     "data": {
      "text/plain": [
       "[\"You Can't Afford the Luxury of a Negative Thought\",\n",
       " 'Batman: Gates of Gotham',\n",
       " 'Batman: The Black Mirror',\n",
       " 'Batman: Year Two: Fear the Reaper',\n",
       " 'Batman: Dark Victory',\n",
       " 'Batman: The Dark Knight - Golden Dawn',\n",
       " 'Batman: Cataclysm',\n",
       " 'Something Out There: Stories',\n",
       " 'Batman: Gotham County Line',\n",
       " 'Batman: Knightfall, Part Two: Who Rules the Night']"
      ]
     },
     "execution_count": 68,
     "metadata": {},
     "output_type": "execute_result"
    }
   ],
   "source": [
    "random_books_df['title'].iloc[book_indices].tolist()"
   ]
  },
  {
   "cell_type": "markdown",
   "id": "ca09f0dd-634b-428c-a89c-b277f30fbd0f",
   "metadata": {},
   "source": [
    "### 4-Recommendations For The Title 'Neural Darwinism: The Theory Of Neuronal Group Selection'"
   ]
  },
  {
   "cell_type": "code",
   "execution_count": 69,
   "id": "135951f9-c3e9-4a03-bb13-372cb7e7236b",
   "metadata": {},
   "outputs": [
    {
     "data": {
      "text/plain": [
       "['A Field Guide to Earthlings: An Autistic/Asperger View of Neurotypical Behavior',\n",
       " 'The Organization of Behavior: A Neuropsychological Theory',\n",
       " 'The Scientific American Book of Love, Sex and the Brain: The Neuroscience of How, When, Why and Who We Love',\n",
       " 'The Branded Mind: What Neuroscience Really Tells Us about the Puzzle of the Brain and the Brand',\n",
       " 'Decisions, Uncertainty, and the Brain: The Science of Neuroeconomics',\n",
       " 'Introduction to Neurolinguistics',\n",
       " 'Neural Darwinism: The Theory Of Neuronal Group Selection',\n",
       " 'Neurobiology',\n",
       " 'I of the Vortex: From Neurons to Self',\n",
       " \"Soccer Men: Profiles of the Rogues, Geniuses, and Neurotics Who Dominate the World's Most Popular Sport\",\n",
       " 'Neurological  Rehabilitation',\n",
       " 'Left Brain, Right Brain: Perspectives from Cognitive Neuroscience',\n",
       " 'Neurolink',\n",
       " 'Brainfluence: 100 Ways to Persuade and Convince Consumers with Neuromarketing',\n",
       " 'Neurogastronomy: How the Brain Creates Flavor and Why It Matters',\n",
       " 'How to Live with a Neurotic Dog',\n",
       " 'The Quest for Consciousness: A Neurobiological Approach',\n",
       " 'Defining Right and Wrong in Brain Science: Essential Readings in Neuroethics',\n",
       " 'The Neuropsychology of Dreams: A Clinico-Anatomical Study',\n",
       " 'The Brain and the Inner World: An Introduction to the Neuroscience of Subjective Experience']"
      ]
     },
     "execution_count": 69,
     "metadata": {},
     "output_type": "execute_result"
    }
   ],
   "source": [
    "check_book('Neuro')[:20]"
   ]
  },
  {
   "cell_type": "code",
   "execution_count": 70,
   "id": "094424be-5eae-4f64-b693-936ace43f003",
   "metadata": {},
   "outputs": [],
   "source": [
    "book_index = indices['Neural Darwinism: The Theory Of Neuronal Group Selection']\n",
    "\n",
    "similarity_scores = pd.DataFrame(cosine_sim[book_index],\n",
    "                                 columns=['score'])\n",
    "\n",
    "book_indices = similarity_scores.sort_values('score', ascending=False)[1:11].index"
   ]
  },
  {
   "cell_type": "markdown",
   "id": "dd24fb0a-7a32-42ac-8c5a-ca4a1ee2eac0",
   "metadata": {},
   "source": [
    "**10 similar titles with Neural Darwinism: The Theory Of Neuronal Group Selection**"
   ]
  },
  {
   "cell_type": "code",
   "execution_count": 71,
   "id": "98ca4b21-a1f7-48ee-8051-70c98d4e4037",
   "metadata": {},
   "outputs": [
    {
     "data": {
      "text/plain": [
       "['Neurobiology',\n",
       " 'The Philosophy of Human Evolution',\n",
       " 'Modern Operating Systems',\n",
       " 'Beyond the Brain: How Body and Environment Shape Animal and Human Minds',\n",
       " 'Exploring Creation with Biology',\n",
       " 'Principles of Brain Dynamics: Global State Interactions',\n",
       " 'The Synaptic Organization of the Brain',\n",
       " 'How Brains Make Up Their Minds',\n",
       " 'Principles of Human Evolution',\n",
       " 'The Adapted Mind: Evolutionary Psychology and the Generation of Culture']"
      ]
     },
     "execution_count": 71,
     "metadata": {},
     "output_type": "execute_result"
    }
   ],
   "source": [
    "random_books_df['title'].iloc[book_indices].tolist()"
   ]
  },
  {
   "cell_type": "markdown",
   "id": "5c3730ac-de99-4a4f-a528-e869e40c5ef7",
   "metadata": {},
   "source": [
    "### 5- Recommendations For The Title 'Data Structures and Algorithms in Python'"
   ]
  },
  {
   "cell_type": "code",
   "execution_count": 72,
   "id": "0ae99a12-4497-484c-a32f-53abea282f49",
   "metadata": {},
   "outputs": [
    {
     "data": {
      "text/plain": [
       "['Bushmanders and Bullwinkles: How Politicians Manipulate Electronic Maps and Census Data to Win Elections',\n",
       " 'Handbook of Functional MRI Data Analysis',\n",
       " 'Bayesian Logical Data Analysis for the Physical Sciences: A Comparative Approach with Mathematica Support',\n",
       " 'R Cookbook: Proven Recipes for Data Analysis, Statistics, and Graphics',\n",
       " 'Linked Data: Evolving the Web Into a Global Data Space',\n",
       " 'Data Structures and Algorithms',\n",
       " 'Readings in Database Systems',\n",
       " 'Access Database Design & Programming',\n",
       " 'Data Structures and the Java Collections Framework',\n",
       " 'The Dinosaur Data Book: The Definitive, Fully Illustrated Encyclopedia Of Dinosaurs',\n",
       " 'Agile Analytics: A Value-Driven Approach to Business Intelligence and Data Warehousing',\n",
       " 'A Practical Guide to Designing with Data',\n",
       " \"Big Data Now: Current Perspectives from O'Reilly Radar\",\n",
       " 'Mining of Massive Datasets',\n",
       " 'Big Data: Principles and best practices of scalable realtime data systems',\n",
       " 'What Is Data Science?',\n",
       " 'Applied Longitudinal Data Analysis: Modeling Change and Event Occurrence',\n",
       " 'Hierarchical Linear Models: Applications and Data Analysis Methods',\n",
       " 'Data Structures and Algorithms in Python',\n",
       " 'Data Analysis: A Bayesian Tutorial']"
      ]
     },
     "execution_count": 72,
     "metadata": {},
     "output_type": "execute_result"
    }
   ],
   "source": [
    "check_book('Data')[:20]"
   ]
  },
  {
   "cell_type": "code",
   "execution_count": 73,
   "id": "4aaefeb1-9b49-4936-9b6d-7ec716ae6ff2",
   "metadata": {},
   "outputs": [],
   "source": [
    "book_index = indices['Data Structures and Algorithms in Python']\n",
    "\n",
    "similarity_scores = pd.DataFrame(cosine_sim[book_index],\n",
    "                                 columns=['score'])\n",
    "\n",
    "book_indices = similarity_scores.sort_values('score', ascending=False)[1:11].index"
   ]
  },
  {
   "cell_type": "markdown",
   "id": "52dc4a70-a050-4393-b986-d521e67b1601",
   "metadata": {},
   "source": [
    "**10 similar titles with Data Structures and Algorithms in Python**"
   ]
  },
  {
   "cell_type": "code",
   "execution_count": 74,
   "id": "f6e5d3f6-4f1f-45c1-a136-f16cdd25e3db",
   "metadata": {},
   "outputs": [
    {
     "data": {
      "text/plain": [
       "['Data Structures and Algorithms',\n",
       " 'Algorithms',\n",
       " 'A Simple Introduction to Data Science',\n",
       " 'Foundations of Multidimensional and Metric Data Structures',\n",
       " \"Big Data Now: Current Perspectives from O'Reilly Radar\",\n",
       " 'What Is Data Science?',\n",
       " 'Python for Data Analysis',\n",
       " 'The Design and Analysis of Computer Algorithms',\n",
       " 'Data Structures and the Java Collections Framework',\n",
       " 'Think Python']"
      ]
     },
     "execution_count": 74,
     "metadata": {},
     "output_type": "execute_result"
    }
   ],
   "source": [
    "random_books_df['title'].iloc[book_indices].tolist()"
   ]
  },
  {
   "cell_type": "markdown",
   "id": "43c9047e-eed4-41ce-97c3-c8dca7ee2506",
   "metadata": {},
   "source": [
    "### Final : Preparation of Working Script"
   ]
  },
  {
   "cell_type": "code",
   "execution_count": 75,
   "id": "c2612ab5-78df-4f8b-a808-daa736e23eca",
   "metadata": {},
   "outputs": [],
   "source": [
    "def calculate_cosine_sim(dataframe, col):\n",
    "    tfidf = TfidfVectorizer()\n",
    "    tfidf_matrix = tfidf.fit_transform(dataframe[col])\n",
    "    cosine_sim = cosine_similarity(tfidf_matrix, tfidf_matrix)\n",
    "    return cosine_sim\n",
    "\n",
    "def recommendation(title, cosine_sim, dataframe):\n",
    "    indices = pd.Series(dataframe.index, index=dataframe['title'])\n",
    "    indices = indices[~indices.index.duplicated(keep='last')]\n",
    "    book_index = indices[title]\n",
    "    similarity_scores = pd.DataFrame(cosine_sim[book_index],\n",
    "                                     columns=[\"score\"])\n",
    "    book_indices = similarity_scores.sort_values(\"score\", ascending=False)[1:11].index\n",
    "    return dataframe['title'].iloc[book_indices]"
   ]
  },
  {
   "cell_type": "markdown",
   "id": "9d5541c4-dcaf-4de4-b04e-b21fb5d0d3c6",
   "metadata": {},
   "source": [
    "## Conclusion"
   ]
  },
  {
   "cell_type": "markdown",
   "id": "c6dc3d91-e4f8-49db-9740-c56fc272102f",
   "metadata": {},
   "source": [
    "- We see that one of the advantages of the content-based recommendation system is that the model can capture a user's specific interests.\n",
    "- As we can see in 5 different examples, other series of Batman for Batman or other series of this book for Lord Of The Rings are recommended.As a disadvantage, content-based filtering offers only a small amount of novelty."
   ]
  }
 ],
 "metadata": {
  "kernelspec": {
   "display_name": "Python 3 (ipykernel)",
   "language": "python",
   "name": "python3"
  },
  "language_info": {
   "codemirror_mode": {
    "name": "ipython",
    "version": 3
   },
   "file_extension": ".py",
   "mimetype": "text/x-python",
   "name": "python",
   "nbconvert_exporter": "python",
   "pygments_lexer": "ipython3",
   "version": "3.8.2"
  }
 },
 "nbformat": 4,
 "nbformat_minor": 5
}
